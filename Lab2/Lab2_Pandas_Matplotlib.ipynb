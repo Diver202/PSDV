{
  "cells": [
    {
      "cell_type": "code",
      "execution_count": 1,
      "metadata": {
        "id": "CMcpPbzBCfUg"
      },
      "outputs": [],
      "source": [
        "import pandas as pd\n",
        "import numpy as np\n",
        "import matplotlib.pyplot as plt\n",
        "import seaborn as sns\n",
        "import warnings\n",
        "warnings.filterwarnings('ignore')\n",
        "%config inlineBackend.figure_format = 'retina'"
      ]
    },
    {
      "cell_type": "markdown",
      "metadata": {
        "id": "1L5HYuFZZtco"
      },
      "source": [
        "# 1. Basic Operations"
      ]
    },
    {
      "cell_type": "markdown",
      "metadata": {
        "id": "rdSMErJ-Zz07"
      },
      "source": [
        "**Q1.** Write code to create a DataFrame from a dictionary containing student names and their scores in three subjects (Math, Science, English).<br/>\n",
        "* Write a code to add a new column `Total Marks`, which calculates the total marks for each student.\n",
        "* Print first five rows of the DataFrame and summary statistics using the `describe()` method.\n",
        "\n",
        "\n",
        "```python\n",
        "data = {\n",
        "    'Name': ['Virat', 'Dhoni', 'Rohit', 'Sachin', 'Gavaskar'],\n",
        "    'Math': [90, 80, 85, 70, 95],\n",
        "    'Science': [85, 88, 90, 75, 92],\n",
        "    'English': [78, 85, 82, 90, 88]\n",
        "}\n",
        "```"
      ]
    },
    {
      "cell_type": "code",
      "execution_count": 2,
      "metadata": {},
      "outputs": [
        {
          "data": {
            "text/html": [
              "<div>\n",
              "<style scoped>\n",
              "    .dataframe tbody tr th:only-of-type {\n",
              "        vertical-align: middle;\n",
              "    }\n",
              "\n",
              "    .dataframe tbody tr th {\n",
              "        vertical-align: top;\n",
              "    }\n",
              "\n",
              "    .dataframe thead th {\n",
              "        text-align: right;\n",
              "    }\n",
              "</style>\n",
              "<table border=\"1\" class=\"dataframe\">\n",
              "  <thead>\n",
              "    <tr style=\"text-align: right;\">\n",
              "      <th></th>\n",
              "      <th>Math</th>\n",
              "      <th>Science</th>\n",
              "      <th>English</th>\n",
              "    </tr>\n",
              "  </thead>\n",
              "  <tbody>\n",
              "    <tr>\n",
              "      <th>count</th>\n",
              "      <td>5.000000</td>\n",
              "      <td>5.000000</td>\n",
              "      <td>5.000000</td>\n",
              "    </tr>\n",
              "    <tr>\n",
              "      <th>mean</th>\n",
              "      <td>84.000000</td>\n",
              "      <td>86.000000</td>\n",
              "      <td>84.600000</td>\n",
              "    </tr>\n",
              "    <tr>\n",
              "      <th>std</th>\n",
              "      <td>9.617692</td>\n",
              "      <td>6.670832</td>\n",
              "      <td>4.774935</td>\n",
              "    </tr>\n",
              "    <tr>\n",
              "      <th>min</th>\n",
              "      <td>70.000000</td>\n",
              "      <td>75.000000</td>\n",
              "      <td>78.000000</td>\n",
              "    </tr>\n",
              "    <tr>\n",
              "      <th>25%</th>\n",
              "      <td>80.000000</td>\n",
              "      <td>85.000000</td>\n",
              "      <td>82.000000</td>\n",
              "    </tr>\n",
              "    <tr>\n",
              "      <th>50%</th>\n",
              "      <td>85.000000</td>\n",
              "      <td>88.000000</td>\n",
              "      <td>85.000000</td>\n",
              "    </tr>\n",
              "    <tr>\n",
              "      <th>75%</th>\n",
              "      <td>90.000000</td>\n",
              "      <td>90.000000</td>\n",
              "      <td>88.000000</td>\n",
              "    </tr>\n",
              "    <tr>\n",
              "      <th>max</th>\n",
              "      <td>95.000000</td>\n",
              "      <td>92.000000</td>\n",
              "      <td>90.000000</td>\n",
              "    </tr>\n",
              "  </tbody>\n",
              "</table>\n",
              "</div>"
            ],
            "text/plain": [
              "            Math    Science    English\n",
              "count   5.000000   5.000000   5.000000\n",
              "mean   84.000000  86.000000  84.600000\n",
              "std     9.617692   6.670832   4.774935\n",
              "min    70.000000  75.000000  78.000000\n",
              "25%    80.000000  85.000000  82.000000\n",
              "50%    85.000000  88.000000  85.000000\n",
              "75%    90.000000  90.000000  88.000000\n",
              "max    95.000000  92.000000  90.000000"
            ]
          },
          "execution_count": 2,
          "metadata": {},
          "output_type": "execute_result"
        }
      ],
      "source": [
        "data = {\n",
        "    'Name': ['Virat', 'Dhoni', 'Rohit', 'Sachin', 'Gavaskar'],\n",
        "    'Math': [90, 80, 85, 70, 95],\n",
        "    'Science': [85, 88, 90, 75, 92],\n",
        "    'English': [78, 85, 82, 90, 88]\n",
        "}\n",
        "\n",
        "marks = pd.DataFrame(data)\n",
        "\n",
        "marks.describe()"
      ]
    },
    {
      "cell_type": "code",
      "execution_count": 3,
      "metadata": {},
      "outputs": [
        {
          "data": {
            "text/html": [
              "<div>\n",
              "<style scoped>\n",
              "    .dataframe tbody tr th:only-of-type {\n",
              "        vertical-align: middle;\n",
              "    }\n",
              "\n",
              "    .dataframe tbody tr th {\n",
              "        vertical-align: top;\n",
              "    }\n",
              "\n",
              "    .dataframe thead th {\n",
              "        text-align: right;\n",
              "    }\n",
              "</style>\n",
              "<table border=\"1\" class=\"dataframe\">\n",
              "  <thead>\n",
              "    <tr style=\"text-align: right;\">\n",
              "      <th></th>\n",
              "      <th>Name</th>\n",
              "      <th>Math</th>\n",
              "      <th>Science</th>\n",
              "      <th>English</th>\n",
              "      <th>Total</th>\n",
              "    </tr>\n",
              "  </thead>\n",
              "  <tbody>\n",
              "    <tr>\n",
              "      <th>0</th>\n",
              "      <td>Virat</td>\n",
              "      <td>90</td>\n",
              "      <td>85</td>\n",
              "      <td>78</td>\n",
              "      <td>253</td>\n",
              "    </tr>\n",
              "    <tr>\n",
              "      <th>1</th>\n",
              "      <td>Dhoni</td>\n",
              "      <td>80</td>\n",
              "      <td>88</td>\n",
              "      <td>85</td>\n",
              "      <td>253</td>\n",
              "    </tr>\n",
              "    <tr>\n",
              "      <th>2</th>\n",
              "      <td>Rohit</td>\n",
              "      <td>85</td>\n",
              "      <td>90</td>\n",
              "      <td>82</td>\n",
              "      <td>257</td>\n",
              "    </tr>\n",
              "    <tr>\n",
              "      <th>3</th>\n",
              "      <td>Sachin</td>\n",
              "      <td>70</td>\n",
              "      <td>75</td>\n",
              "      <td>90</td>\n",
              "      <td>235</td>\n",
              "    </tr>\n",
              "    <tr>\n",
              "      <th>4</th>\n",
              "      <td>Gavaskar</td>\n",
              "      <td>95</td>\n",
              "      <td>92</td>\n",
              "      <td>88</td>\n",
              "      <td>275</td>\n",
              "    </tr>\n",
              "  </tbody>\n",
              "</table>\n",
              "</div>"
            ],
            "text/plain": [
              "       Name  Math  Science  English  Total\n",
              "0     Virat    90       85       78    253\n",
              "1     Dhoni    80       88       85    253\n",
              "2     Rohit    85       90       82    257\n",
              "3    Sachin    70       75       90    235\n",
              "4  Gavaskar    95       92       88    275"
            ]
          },
          "execution_count": 3,
          "metadata": {},
          "output_type": "execute_result"
        }
      ],
      "source": [
        "marks.eval('Total = Math + Science + English', inplace = True)\n",
        "marks"
      ]
    },
    {
      "cell_type": "code",
      "execution_count": 4,
      "metadata": {},
      "outputs": [
        {
          "data": {
            "text/html": [
              "<div>\n",
              "<style scoped>\n",
              "    .dataframe tbody tr th:only-of-type {\n",
              "        vertical-align: middle;\n",
              "    }\n",
              "\n",
              "    .dataframe tbody tr th {\n",
              "        vertical-align: top;\n",
              "    }\n",
              "\n",
              "    .dataframe thead th {\n",
              "        text-align: right;\n",
              "    }\n",
              "</style>\n",
              "<table border=\"1\" class=\"dataframe\">\n",
              "  <thead>\n",
              "    <tr style=\"text-align: right;\">\n",
              "      <th></th>\n",
              "      <th>Name</th>\n",
              "      <th>Math</th>\n",
              "      <th>Science</th>\n",
              "      <th>English</th>\n",
              "      <th>Total</th>\n",
              "    </tr>\n",
              "  </thead>\n",
              "  <tbody>\n",
              "    <tr>\n",
              "      <th>0</th>\n",
              "      <td>Virat</td>\n",
              "      <td>90</td>\n",
              "      <td>85</td>\n",
              "      <td>78</td>\n",
              "      <td>253</td>\n",
              "    </tr>\n",
              "    <tr>\n",
              "      <th>1</th>\n",
              "      <td>Dhoni</td>\n",
              "      <td>80</td>\n",
              "      <td>88</td>\n",
              "      <td>85</td>\n",
              "      <td>253</td>\n",
              "    </tr>\n",
              "    <tr>\n",
              "      <th>2</th>\n",
              "      <td>Rohit</td>\n",
              "      <td>85</td>\n",
              "      <td>90</td>\n",
              "      <td>82</td>\n",
              "      <td>257</td>\n",
              "    </tr>\n",
              "    <tr>\n",
              "      <th>3</th>\n",
              "      <td>Sachin</td>\n",
              "      <td>70</td>\n",
              "      <td>75</td>\n",
              "      <td>90</td>\n",
              "      <td>235</td>\n",
              "    </tr>\n",
              "    <tr>\n",
              "      <th>4</th>\n",
              "      <td>Gavaskar</td>\n",
              "      <td>95</td>\n",
              "      <td>92</td>\n",
              "      <td>88</td>\n",
              "      <td>275</td>\n",
              "    </tr>\n",
              "  </tbody>\n",
              "</table>\n",
              "</div>"
            ],
            "text/plain": [
              "       Name  Math  Science  English  Total\n",
              "0     Virat    90       85       78    253\n",
              "1     Dhoni    80       88       85    253\n",
              "2     Rohit    85       90       82    257\n",
              "3    Sachin    70       75       90    235\n",
              "4  Gavaskar    95       92       88    275"
            ]
          },
          "execution_count": 4,
          "metadata": {},
          "output_type": "execute_result"
        }
      ],
      "source": [
        "marks[\"Total\"] = marks[\"Math\"] + marks[\"Science\"] + marks[\"English\"]\n",
        "marks"
      ]
    },
    {
      "cell_type": "markdown",
      "metadata": {
        "id": "vv3nqYtcbPXI"
      },
      "source": [
        "**Q2.** Create a dummy CSV file named students.csv containing the following columns: Name, Age, Gender, and Marks (atleast 5 entries). Perform the following tasks:\n",
        "\n",
        "- Load the file into a DataFrame using Pandas.\n",
        "- Display the last 3 rows of the DataFrame.\n",
        "- Print the total number of rows and columns in the DataFrame."
      ]
    },
    {
      "cell_type": "code",
      "execution_count": 5,
      "metadata": {},
      "outputs": [
        {
          "data": {
            "text/html": [
              "<div>\n",
              "<style scoped>\n",
              "    .dataframe tbody tr th:only-of-type {\n",
              "        vertical-align: middle;\n",
              "    }\n",
              "\n",
              "    .dataframe tbody tr th {\n",
              "        vertical-align: top;\n",
              "    }\n",
              "\n",
              "    .dataframe thead th {\n",
              "        text-align: right;\n",
              "    }\n",
              "</style>\n",
              "<table border=\"1\" class=\"dataframe\">\n",
              "  <thead>\n",
              "    <tr style=\"text-align: right;\">\n",
              "      <th></th>\n",
              "      <th>Name</th>\n",
              "      <th>Age</th>\n",
              "      <th>Gender</th>\n",
              "      <th>Marks</th>\n",
              "    </tr>\n",
              "  </thead>\n",
              "  <tbody>\n",
              "    <tr>\n",
              "      <th>2</th>\n",
              "      <td>Nayana</td>\n",
              "      <td>18</td>\n",
              "      <td>Female</td>\n",
              "      <td>85</td>\n",
              "    </tr>\n",
              "    <tr>\n",
              "      <th>3</th>\n",
              "      <td>Rudra</td>\n",
              "      <td>18</td>\n",
              "      <td>Don't Know</td>\n",
              "      <td>17</td>\n",
              "    </tr>\n",
              "    <tr>\n",
              "      <th>4</th>\n",
              "      <td>Naman</td>\n",
              "      <td>17</td>\n",
              "      <td>Male</td>\n",
              "      <td>40</td>\n",
              "    </tr>\n",
              "  </tbody>\n",
              "</table>\n",
              "</div>"
            ],
            "text/plain": [
              "     Name   Age       Gender   Marks\n",
              "2  Nayana    18       Female      85\n",
              "3   Rudra    18   Don't Know      17\n",
              "4   Naman    17         Male      40"
            ]
          },
          "execution_count": 5,
          "metadata": {},
          "output_type": "execute_result"
        }
      ],
      "source": [
        "df = pd.read_csv(\"students.csv\")\n",
        "df[-3:]"
      ]
    },
    {
      "cell_type": "code",
      "execution_count": 6,
      "metadata": {},
      "outputs": [
        {
          "name": "stdout",
          "output_type": "stream",
          "text": [
            "Total number of rows: 5\n",
            "Total number of columns: 4\n"
          ]
        }
      ],
      "source": [
        "print(\"Total number of rows:\", len(df))\n",
        "print(\"Total number of columns:\", len(df.columns))"
      ]
    },
    {
      "cell_type": "markdown",
      "metadata": {
        "id": "K7Q7mbEocP7J"
      },
      "source": [
        "**Q3.** Create and populate a DataFrame with columns Employee_ID, Name, Department, and Salary. Now perform the following:\n",
        "\n",
        "- Add a new column Bonus where each employee gets 10% of their Salary.\n",
        "- Increase the Salary of all employees in the IT department by 20%.\n",
        "- Drop the Department column from the DataFrame.\n"
      ]
    },
    {
      "cell_type": "code",
      "execution_count": 19,
      "metadata": {},
      "outputs": [
        {
          "data": {
            "text/html": [
              "<div>\n",
              "<style scoped>\n",
              "    .dataframe tbody tr th:only-of-type {\n",
              "        vertical-align: middle;\n",
              "    }\n",
              "\n",
              "    .dataframe tbody tr th {\n",
              "        vertical-align: top;\n",
              "    }\n",
              "\n",
              "    .dataframe thead th {\n",
              "        text-align: right;\n",
              "    }\n",
              "</style>\n",
              "<table border=\"1\" class=\"dataframe\">\n",
              "  <thead>\n",
              "    <tr style=\"text-align: right;\">\n",
              "      <th></th>\n",
              "      <th>Employee_ID</th>\n",
              "      <th>Name</th>\n",
              "      <th>Department</th>\n",
              "      <th>Salary</th>\n",
              "      <th>Bonus</th>\n",
              "    </tr>\n",
              "  </thead>\n",
              "  <tbody>\n",
              "    <tr>\n",
              "      <th>0</th>\n",
              "      <td>123456</td>\n",
              "      <td>Amartya</td>\n",
              "      <td>Marketing</td>\n",
              "      <td>20000</td>\n",
              "      <td>2000.0</td>\n",
              "    </tr>\n",
              "    <tr>\n",
              "      <th>1</th>\n",
              "      <td>784768</td>\n",
              "      <td>Haqim</td>\n",
              "      <td>HR</td>\n",
              "      <td>30000</td>\n",
              "      <td>3000.0</td>\n",
              "    </tr>\n",
              "    <tr>\n",
              "      <th>2</th>\n",
              "      <td>675030</td>\n",
              "      <td>Jeffrey</td>\n",
              "      <td>Development</td>\n",
              "      <td>59000</td>\n",
              "      <td>5900.0</td>\n",
              "    </tr>\n",
              "    <tr>\n",
              "      <th>3</th>\n",
              "      <td>489434</td>\n",
              "      <td>Walter</td>\n",
              "      <td>Manufacturing</td>\n",
              "      <td>90000</td>\n",
              "      <td>9000.0</td>\n",
              "    </tr>\n",
              "    <tr>\n",
              "      <th>4</th>\n",
              "      <td>684387</td>\n",
              "      <td>Pablo</td>\n",
              "      <td>HR</td>\n",
              "      <td>100000</td>\n",
              "      <td>10000.0</td>\n",
              "    </tr>\n",
              "    <tr>\n",
              "      <th>5</th>\n",
              "      <td>563748</td>\n",
              "      <td>Grestin</td>\n",
              "      <td>IT</td>\n",
              "      <td>76000</td>\n",
              "      <td>7600.0</td>\n",
              "    </tr>\n",
              "  </tbody>\n",
              "</table>\n",
              "</div>"
            ],
            "text/plain": [
              "   Employee_ID     Name     Department  Salary    Bonus\n",
              "0       123456  Amartya      Marketing   20000   2000.0\n",
              "1       784768    Haqim             HR   30000   3000.0\n",
              "2       675030  Jeffrey    Development   59000   5900.0\n",
              "3       489434   Walter  Manufacturing   90000   9000.0\n",
              "4       684387    Pablo             HR  100000  10000.0\n",
              "5       563748  Grestin             IT   76000   7600.0"
            ]
          },
          "execution_count": 19,
          "metadata": {},
          "output_type": "execute_result"
        }
      ],
      "source": [
        "df = pd.read_csv(\"employees.csv\")\n",
        "salaryArray = df['Salary'].to_numpy()\n",
        "#calculating 10%\n",
        "bonusArray = salaryArray*0.1\n",
        "#adding bonus column\n",
        "df['Bonus'] = bonusArray\n",
        "df"
      ]
    },
    {
      "cell_type": "code",
      "execution_count": 21,
      "metadata": {},
      "outputs": [
        {
          "data": {
            "text/html": [
              "<div>\n",
              "<style scoped>\n",
              "    .dataframe tbody tr th:only-of-type {\n",
              "        vertical-align: middle;\n",
              "    }\n",
              "\n",
              "    .dataframe tbody tr th {\n",
              "        vertical-align: top;\n",
              "    }\n",
              "\n",
              "    .dataframe thead th {\n",
              "        text-align: right;\n",
              "    }\n",
              "</style>\n",
              "<table border=\"1\" class=\"dataframe\">\n",
              "  <thead>\n",
              "    <tr style=\"text-align: right;\">\n",
              "      <th></th>\n",
              "      <th>Employee_ID</th>\n",
              "      <th>Name</th>\n",
              "      <th>Department</th>\n",
              "      <th>Salary</th>\n",
              "      <th>Bonus</th>\n",
              "    </tr>\n",
              "  </thead>\n",
              "  <tbody>\n",
              "    <tr>\n",
              "      <th>0</th>\n",
              "      <td>123456</td>\n",
              "      <td>Amartya</td>\n",
              "      <td>Marketing</td>\n",
              "      <td>20000</td>\n",
              "      <td>2000.0</td>\n",
              "    </tr>\n",
              "    <tr>\n",
              "      <th>1</th>\n",
              "      <td>784768</td>\n",
              "      <td>Haqim</td>\n",
              "      <td>HR</td>\n",
              "      <td>30000</td>\n",
              "      <td>3000.0</td>\n",
              "    </tr>\n",
              "    <tr>\n",
              "      <th>2</th>\n",
              "      <td>675030</td>\n",
              "      <td>Jeffrey</td>\n",
              "      <td>Development</td>\n",
              "      <td>59000</td>\n",
              "      <td>5900.0</td>\n",
              "    </tr>\n",
              "    <tr>\n",
              "      <th>3</th>\n",
              "      <td>489434</td>\n",
              "      <td>Walter</td>\n",
              "      <td>Manufacturing</td>\n",
              "      <td>90000</td>\n",
              "      <td>9000.0</td>\n",
              "    </tr>\n",
              "    <tr>\n",
              "      <th>4</th>\n",
              "      <td>684387</td>\n",
              "      <td>Pablo</td>\n",
              "      <td>HR</td>\n",
              "      <td>100000</td>\n",
              "      <td>10000.0</td>\n",
              "    </tr>\n",
              "    <tr>\n",
              "      <th>5</th>\n",
              "      <td>563748</td>\n",
              "      <td>Grestin</td>\n",
              "      <td>IT</td>\n",
              "      <td>109440</td>\n",
              "      <td>7600.0</td>\n",
              "    </tr>\n",
              "  </tbody>\n",
              "</table>\n",
              "</div>"
            ],
            "text/plain": [
              "   Employee_ID     Name     Department  Salary    Bonus\n",
              "0       123456  Amartya      Marketing   20000   2000.0\n",
              "1       784768    Haqim             HR   30000   3000.0\n",
              "2       675030  Jeffrey    Development   59000   5900.0\n",
              "3       489434   Walter  Manufacturing   90000   9000.0\n",
              "4       684387    Pablo             HR  100000  10000.0\n",
              "5       563748  Grestin             IT  109440   7600.0"
            ]
          },
          "execution_count": 21,
          "metadata": {},
          "output_type": "execute_result"
        }
      ],
      "source": [
        "# Increase the Salary of all employees in the IT department by 20%\n",
        "df.loc[df['Department'] == 'IT', 'Salary'] *= 1.2\n",
        "df"
      ]
    },
    {
      "cell_type": "code",
      "execution_count": 24,
      "metadata": {},
      "outputs": [
        {
          "data": {
            "text/html": [
              "<div>\n",
              "<style scoped>\n",
              "    .dataframe tbody tr th:only-of-type {\n",
              "        vertical-align: middle;\n",
              "    }\n",
              "\n",
              "    .dataframe tbody tr th {\n",
              "        vertical-align: top;\n",
              "    }\n",
              "\n",
              "    .dataframe thead th {\n",
              "        text-align: right;\n",
              "    }\n",
              "</style>\n",
              "<table border=\"1\" class=\"dataframe\">\n",
              "  <thead>\n",
              "    <tr style=\"text-align: right;\">\n",
              "      <th></th>\n",
              "      <th>Employee_ID</th>\n",
              "      <th>Name</th>\n",
              "      <th>Salary</th>\n",
              "      <th>Bonus</th>\n",
              "    </tr>\n",
              "  </thead>\n",
              "  <tbody>\n",
              "    <tr>\n",
              "      <th>0</th>\n",
              "      <td>123456</td>\n",
              "      <td>Amartya</td>\n",
              "      <td>20000</td>\n",
              "      <td>2000.0</td>\n",
              "    </tr>\n",
              "    <tr>\n",
              "      <th>1</th>\n",
              "      <td>784768</td>\n",
              "      <td>Haqim</td>\n",
              "      <td>30000</td>\n",
              "      <td>3000.0</td>\n",
              "    </tr>\n",
              "    <tr>\n",
              "      <th>2</th>\n",
              "      <td>675030</td>\n",
              "      <td>Jeffrey</td>\n",
              "      <td>59000</td>\n",
              "      <td>5900.0</td>\n",
              "    </tr>\n",
              "    <tr>\n",
              "      <th>3</th>\n",
              "      <td>489434</td>\n",
              "      <td>Walter</td>\n",
              "      <td>90000</td>\n",
              "      <td>9000.0</td>\n",
              "    </tr>\n",
              "    <tr>\n",
              "      <th>4</th>\n",
              "      <td>684387</td>\n",
              "      <td>Pablo</td>\n",
              "      <td>100000</td>\n",
              "      <td>10000.0</td>\n",
              "    </tr>\n",
              "    <tr>\n",
              "      <th>5</th>\n",
              "      <td>563748</td>\n",
              "      <td>Grestin</td>\n",
              "      <td>109440</td>\n",
              "      <td>7600.0</td>\n",
              "    </tr>\n",
              "  </tbody>\n",
              "</table>\n",
              "</div>"
            ],
            "text/plain": [
              "   Employee_ID     Name  Salary    Bonus\n",
              "0       123456  Amartya   20000   2000.0\n",
              "1       784768    Haqim   30000   3000.0\n",
              "2       675030  Jeffrey   59000   5900.0\n",
              "3       489434   Walter   90000   9000.0\n",
              "4       684387    Pablo  100000  10000.0\n",
              "5       563748  Grestin  109440   7600.0"
            ]
          },
          "execution_count": 24,
          "metadata": {},
          "output_type": "execute_result"
        }
      ],
      "source": [
        "df = df.drop(columns=[\"Department\"])\n",
        "df"
      ]
    },
    {
      "cell_type": "markdown",
      "metadata": {
        "id": "1z0HOeKHHurz"
      },
      "source": [
        "# 2. Indexing and Slicing"
      ]
    },
    {
      "cell_type": "markdown",
      "metadata": {
        "id": "FaDAzqstHyhP"
      },
      "source": [
        "**Q1.** You are given a data about employees' performance:\n",
        "\n",
        "```\n",
        "data = {\n",
        "    'Employee': ['E1', 'E2', 'E3', 'E4', 'E5'],\n",
        "    'Department': ['HR', 'IT', 'Finance', 'IT', 'HR'],\n",
        "    'Salary': [50000, 60000, 55000, 58000, 52000],\n",
        "    'Performance_Rating': [8.2, 7.8, 8.5, 7.4, 8.0],\n",
        "    'Years_at_Company': [5, 3, 6, 2, 4]\n",
        "}\n",
        "```\n",
        "Using boolean indexing, select employees who meet all of the following conditions:\n",
        "\n",
        "- Belong to either 'HR' or 'IT' departments.\n",
        "- Have a performance rating greater than or equal to 8.0.\n",
        "- Earn a salary less than 55,000 or have been with the company for at least 4 years.\n"
      ]
    },
    {
      "cell_type": "code",
      "execution_count": 9,
      "metadata": {},
      "outputs": [
        {
          "data": {
            "text/html": [
              "<div>\n",
              "<style scoped>\n",
              "    .dataframe tbody tr th:only-of-type {\n",
              "        vertical-align: middle;\n",
              "    }\n",
              "\n",
              "    .dataframe tbody tr th {\n",
              "        vertical-align: top;\n",
              "    }\n",
              "\n",
              "    .dataframe thead th {\n",
              "        text-align: right;\n",
              "    }\n",
              "</style>\n",
              "<table border=\"1\" class=\"dataframe\">\n",
              "  <thead>\n",
              "    <tr style=\"text-align: right;\">\n",
              "      <th></th>\n",
              "      <th>Employee</th>\n",
              "      <th>Department</th>\n",
              "      <th>Salary</th>\n",
              "      <th>Performance_Rating</th>\n",
              "      <th>Years_at_Company</th>\n",
              "    </tr>\n",
              "  </thead>\n",
              "  <tbody>\n",
              "    <tr>\n",
              "      <th>0</th>\n",
              "      <td>E1</td>\n",
              "      <td>HR</td>\n",
              "      <td>50000</td>\n",
              "      <td>8.2</td>\n",
              "      <td>5</td>\n",
              "    </tr>\n",
              "    <tr>\n",
              "      <th>4</th>\n",
              "      <td>E5</td>\n",
              "      <td>HR</td>\n",
              "      <td>52000</td>\n",
              "      <td>8.0</td>\n",
              "      <td>4</td>\n",
              "    </tr>\n",
              "  </tbody>\n",
              "</table>\n",
              "</div>"
            ],
            "text/plain": [
              "  Employee Department  Salary  Performance_Rating  Years_at_Company\n",
              "0       E1         HR   50000                 8.2                 5\n",
              "4       E5         HR   52000                 8.0                 4"
            ]
          },
          "execution_count": 9,
          "metadata": {},
          "output_type": "execute_result"
        }
      ],
      "source": [
        "data = {\n",
        "    'Employee': ['E1', 'E2', 'E3', 'E4', 'E5'],\n",
        "    'Department': ['HR', 'IT', 'Finance', 'IT', 'HR'],\n",
        "    'Salary': [50000, 60000, 55000, 58000, 52000],\n",
        "    'Performance_Rating': [8.2, 7.8, 8.5, 7.4, 8.0],\n",
        "    'Years_at_Company': [5, 3, 6, 2, 4]\n",
        "}\n",
        "\n",
        "df = pd.DataFrame(data)\n",
        "mask = ((df[\"Department\"] == 'HR') | (df[\"Department\"] == \"IT\")) & (df['Performance_Rating']>=8.0) & ((df['Years_at_Company'] >=4) | (df['Salary']<55000))\n",
        "df[mask]"
      ]
    },
    {
      "cell_type": "markdown",
      "metadata": {
        "id": "rbjBJwZIIqaF"
      },
      "source": [
        "**Q2.** Slicing Rows and Columns\n",
        "\n",
        "```\n",
        "data = {\n",
        "    'Product': ['Laptop', 'Phone', 'Tablet', 'Monitor', 'Headphones'],\n",
        "    'Price': [800, 400, 300, 150, 50],\n",
        "    'Stock': [20, 35, 50, 10, 100],\n",
        "    'Rating': [4.5, 4.2, 3.8, 4.8, 4.0]\n",
        "}\n",
        "```\n",
        "\n",
        "Use slicing to select the following:\n",
        "\n",
        "- The last 3 rows of the DataFrame.\n",
        "- All columns except 'Stock' and 'Rating' from the first 3 rows."
      ]
    },
    {
      "cell_type": "code",
      "execution_count": 10,
      "metadata": {},
      "outputs": [
        {
          "name": "stdout",
          "output_type": "stream",
          "text": [
            "      Product  Price  Stock  Rating\n",
            "2      Tablet    300     50     3.8\n",
            "3     Monitor    150     10     4.8\n",
            "4  Headphones     50    100     4.0\n"
          ]
        }
      ],
      "source": [
        "data = {\n",
        "    'Product': ['Laptop', 'Phone', 'Tablet', 'Monitor', 'Headphones'],\n",
        "    'Price': [800, 400, 300, 150, 50],\n",
        "    'Stock': [20, 35, 50, 10, 100],\n",
        "    'Rating': [4.5, 4.2, 3.8, 4.8, 4.0]\n",
        "}\n",
        "df = pd.DataFrame(data)\n",
        "print(df[-3:])"
      ]
    },
    {
      "cell_type": "markdown",
      "metadata": {
        "id": "3laarPY1JVdH"
      },
      "source": [
        "**Q3.** Label-based Indexing with `.loc[]` and `.iloc[]`\n",
        "\n",
        "```\n",
        "data = {\n",
        "    'Name': ['John', 'Sara', 'Tom', 'Alex', 'Julia'],\n",
        "    'Age': [29, 35, 40, 25, 31],\n",
        "    'Salary': [50000, 60000, 75000, 45000, 52000],\n",
        "    'Department': ['HR', 'Finance', 'IT', 'HR', 'IT']\n",
        "}\n",
        "```\n",
        "\n",
        "Using .loc[] and .iloc[], perform the following tasks:\n",
        "\n",
        "- Select the row corresponding to 'Tom' using label-based indexing.\n",
        "- Select the first two rows and the 'Salary' and 'Department' columns using position-based indexing."
      ]
    },
    {
      "cell_type": "code",
      "execution_count": 25,
      "metadata": {},
      "outputs": [
        {
          "data": {
            "text/html": [
              "<div>\n",
              "<style scoped>\n",
              "    .dataframe tbody tr th:only-of-type {\n",
              "        vertical-align: middle;\n",
              "    }\n",
              "\n",
              "    .dataframe tbody tr th {\n",
              "        vertical-align: top;\n",
              "    }\n",
              "\n",
              "    .dataframe thead th {\n",
              "        text-align: right;\n",
              "    }\n",
              "</style>\n",
              "<table border=\"1\" class=\"dataframe\">\n",
              "  <thead>\n",
              "    <tr style=\"text-align: right;\">\n",
              "      <th></th>\n",
              "      <th>Name</th>\n",
              "      <th>Age</th>\n",
              "      <th>Salary</th>\n",
              "      <th>Department</th>\n",
              "    </tr>\n",
              "  </thead>\n",
              "  <tbody>\n",
              "    <tr>\n",
              "      <th>0</th>\n",
              "      <td>John</td>\n",
              "      <td>29</td>\n",
              "      <td>50000</td>\n",
              "      <td>HR</td>\n",
              "    </tr>\n",
              "    <tr>\n",
              "      <th>1</th>\n",
              "      <td>Sara</td>\n",
              "      <td>35</td>\n",
              "      <td>60000</td>\n",
              "      <td>Finance</td>\n",
              "    </tr>\n",
              "    <tr>\n",
              "      <th>2</th>\n",
              "      <td>Tom</td>\n",
              "      <td>40</td>\n",
              "      <td>75000</td>\n",
              "      <td>IT</td>\n",
              "    </tr>\n",
              "    <tr>\n",
              "      <th>3</th>\n",
              "      <td>Alex</td>\n",
              "      <td>25</td>\n",
              "      <td>45000</td>\n",
              "      <td>HR</td>\n",
              "    </tr>\n",
              "    <tr>\n",
              "      <th>4</th>\n",
              "      <td>Julia</td>\n",
              "      <td>31</td>\n",
              "      <td>52000</td>\n",
              "      <td>IT</td>\n",
              "    </tr>\n",
              "  </tbody>\n",
              "</table>\n",
              "</div>"
            ],
            "text/plain": [
              "    Name  Age  Salary Department\n",
              "0   John   29   50000         HR\n",
              "1   Sara   35   60000    Finance\n",
              "2    Tom   40   75000         IT\n",
              "3   Alex   25   45000         HR\n",
              "4  Julia   31   52000         IT"
            ]
          },
          "execution_count": 25,
          "metadata": {},
          "output_type": "execute_result"
        }
      ],
      "source": [
        "data = {\n",
        "    'Name': ['John', 'Sara', 'Tom', 'Alex', 'Julia'],\n",
        "    'Age': [29, 35, 40, 25, 31],\n",
        "    'Salary': [50000, 60000, 75000, 45000, 52000],\n",
        "    'Department': ['HR', 'Finance', 'IT', 'HR', 'IT']\n",
        "}\n",
        "\n",
        "df = pd.DataFrame(data)\n",
        "df"
      ]
    },
    {
      "cell_type": "code",
      "execution_count": 29,
      "metadata": {},
      "outputs": [
        {
          "data": {
            "text/html": [
              "<div>\n",
              "<style scoped>\n",
              "    .dataframe tbody tr th:only-of-type {\n",
              "        vertical-align: middle;\n",
              "    }\n",
              "\n",
              "    .dataframe tbody tr th {\n",
              "        vertical-align: top;\n",
              "    }\n",
              "\n",
              "    .dataframe thead th {\n",
              "        text-align: right;\n",
              "    }\n",
              "</style>\n",
              "<table border=\"1\" class=\"dataframe\">\n",
              "  <thead>\n",
              "    <tr style=\"text-align: right;\">\n",
              "      <th></th>\n",
              "      <th>Name</th>\n",
              "      <th>Age</th>\n",
              "      <th>Salary</th>\n",
              "      <th>Department</th>\n",
              "    </tr>\n",
              "  </thead>\n",
              "  <tbody>\n",
              "    <tr>\n",
              "      <th>2</th>\n",
              "      <td>Tom</td>\n",
              "      <td>40</td>\n",
              "      <td>75000</td>\n",
              "      <td>IT</td>\n",
              "    </tr>\n",
              "  </tbody>\n",
              "</table>\n",
              "</div>"
            ],
            "text/plain": [
              "  Name  Age  Salary Department\n",
              "2  Tom   40   75000         IT"
            ]
          },
          "execution_count": 29,
          "metadata": {},
          "output_type": "execute_result"
        }
      ],
      "source": [
        "# Selecting the row corresponding to Tom\n",
        "row = df.loc[df['Name'] == 'Tom']\n",
        "row"
      ]
    },
    {
      "cell_type": "code",
      "execution_count": 32,
      "metadata": {},
      "outputs": [
        {
          "data": {
            "text/html": [
              "<div>\n",
              "<style scoped>\n",
              "    .dataframe tbody tr th:only-of-type {\n",
              "        vertical-align: middle;\n",
              "    }\n",
              "\n",
              "    .dataframe tbody tr th {\n",
              "        vertical-align: top;\n",
              "    }\n",
              "\n",
              "    .dataframe thead th {\n",
              "        text-align: right;\n",
              "    }\n",
              "</style>\n",
              "<table border=\"1\" class=\"dataframe\">\n",
              "  <thead>\n",
              "    <tr style=\"text-align: right;\">\n",
              "      <th></th>\n",
              "      <th>Salary</th>\n",
              "      <th>Department</th>\n",
              "    </tr>\n",
              "  </thead>\n",
              "  <tbody>\n",
              "    <tr>\n",
              "      <th>0</th>\n",
              "      <td>50000</td>\n",
              "      <td>HR</td>\n",
              "    </tr>\n",
              "    <tr>\n",
              "      <th>1</th>\n",
              "      <td>60000</td>\n",
              "      <td>Finance</td>\n",
              "    </tr>\n",
              "  </tbody>\n",
              "</table>\n",
              "</div>"
            ],
            "text/plain": [
              "   Salary Department\n",
              "0   50000         HR\n",
              "1   60000    Finance"
            ]
          },
          "execution_count": 32,
          "metadata": {},
          "output_type": "execute_result"
        }
      ],
      "source": [
        "subdf = df.iloc[:2, [2,3]]\n",
        "subdf"
      ]
    },
    {
      "cell_type": "markdown",
      "metadata": {
        "id": "XwmlBZRPFbp7"
      },
      "source": [
        "# 3. GroupBy and Aggregations\n"
      ]
    },
    {
      "cell_type": "markdown",
      "metadata": {
        "id": "C5JaqbN-FmmA"
      },
      "source": [
        "**Q1.** You have a dataset of students' test scores. The dataset has the following columns:\n",
        "\n",
        "* StudentID: Unique ID of the student.\n",
        "* Subject: The subject of the test.\n",
        "* Score: The score obtained (out of 100).\n",
        "```\n",
        "data = pd.DataFrame({\n",
        "    \"StudentID\": [1, 2, 3, 2, 3, 1],\n",
        "    \"Subject\": [\"Math\", \"Science\", \"Math\",  \"Math\",\"Science\", \"Science\"],\n",
        "    \"Score\": [85, 90, 78, 88, 92, 95]\n",
        "})\n",
        "```\n",
        "\n",
        "* Write a function to calculate the average score for each student. Use this function to group the data by StudentID and find the average score."
      ]
    },
    {
      "cell_type": "code",
      "execution_count": 11,
      "metadata": {},
      "outputs": [
        {
          "data": {
            "text/plain": [
              "StudentID\n",
              "1    90.0\n",
              "2    89.0\n",
              "3    85.0\n",
              "Name: Score, dtype: float64"
            ]
          },
          "execution_count": 11,
          "metadata": {},
          "output_type": "execute_result"
        }
      ],
      "source": [
        "data = pd.DataFrame({\n",
        "    \"StudentID\": [1, 2, 3, 2, 3, 1],\n",
        "    \"Subject\": [\"Math\", \"Science\", \"Math\",  \"Math\",\"Science\", \"Science\"],\n",
        "    \"Score\": [85, 90, 78, 88, 92, 95]\n",
        "})\n",
        "df = pd.DataFrame(data)\n",
        "result = df.groupby(\"StudentID\")\n",
        "result.Score.mean()"
      ]
    },
    {
      "cell_type": "markdown",
      "metadata": {
        "id": "yzq5kjDxHToR"
      },
      "source": [
        "\n",
        "\n",
        "**Q2.** Create  a dataset of retail sales with a hierarchical index consisting of `Region` and `StoreID`. The dataset contains the following columns:\n",
        "\n",
        "* ProductCategory: The category of the product sold (e.g., Electronics, Clothing)\n",
        "\n",
        "* Sales: The amount of sales made\n",
        "\n",
        "Group the data by respective level indices  and calculate:\n",
        "\n",
        "* Total sales in each region.\n",
        "* Average sales in each store .\n"
      ]
    },
    {
      "cell_type": "markdown",
      "metadata": {
        "id": "u8qWroMxF4dl"
      },
      "source": [
        "**Q3.** You are given a DataFrame `df_orders` as follows:\n",
        "\n",
        "```\n",
        "df_orders = pd.DataFrame({\n",
        "    'Category': ['Electronics', 'Electronics', 'Clothing', 'Clothing', 'Groceries', 'Groceries'],\n",
        "    'Order_ID': ['O1', 'O2', 'O3', 'O4', 'O5', 'O6'],\n",
        "    'Price': [1000, 500, 100, 200, 50, 60],\n",
        "    'Discount': [50, 25, 10, 20, 5, 6],\n",
        "    'Quantity': [1, 2, 3, 1, 4, 5]\n",
        "})\n",
        "```\n",
        "- Group the data by \"`Category`\" and compute:\n",
        "  - Total revenue `(Price * Quantity)`.\n",
        "  - Total discounts given` (Discount * Quantity)`.\n",
        "\n",
        "- For each category find the followng:\n",
        "  * The order with the highest revenue.\n",
        "  * The average discount per order.\n",
        "\n",
        "\n"
      ]
    },
    {
      "cell_type": "markdown",
      "metadata": {
        "id": "ih9vkxLHuUc2"
      },
      "source": [
        "#4. Handling Missing Data\n",
        "\n",
        "You are provided with a dataset, `numeric_df`, containing numeric features from the Titanic dataset. Your task is to explore and handle the missing data systematically.\n",
        "\n"
      ]
    },
    {
      "cell_type": "markdown",
      "metadata": {
        "id": "MLCenplJU5Cm"
      },
      "source": [
        "**Q1.** **Load and Inspect the Data**\n",
        "- Run the cell below to get the dataset `numeric_df`.\n",
        "- Display the first 5 rows of the dataset.\n",
        "- Create a **heatmap** to visualize where the missing values occur.\n",
        "- Count the missing values in each column and report them (also, plot them).\n",
        "- Drop the column with more than 60 percent `NaN` values. Why?\n"
      ]
    },
    {
      "cell_type": "markdown",
      "metadata": {
        "id": "zaCrKFjVU-hg"
      },
      "source": [
        "\n",
        "\n",
        "**Q2** **Handle Missing Values**\n",
        "- For the `pclass` column, use **mode imputation** to fill the missing values.\n",
        "- Explain why mode imputation is appropriate for this column.\n",
        "\n",
        "- How would you impute the values for the column `age`. Why?\n"
      ]
    },
    {
      "cell_type": "markdown",
      "metadata": {
        "id": "lwLvzxMbVF2Y"
      },
      "source": [
        "\n",
        "**Q3** **Analyze Results**\n",
        "- Compare the dataset before and after imputation:\n",
        "  - Count the missing values after imputation.\n",
        "  - Calculate the **mean** of all numeric columns before and after imputation."
      ]
    },
    {
      "cell_type": "code",
      "execution_count": 12,
      "metadata": {
        "id": "h7cvw4BcaFal"
      },
      "outputs": [],
      "source": [
        "# Load the Titanic dataset\n",
        "df = sns.load_dataset('titanic')\n",
        "\n",
        "# Select only numeric columns\n",
        "numeric_df = df.select_dtypes(include=['float64', 'int64'])\n",
        "\n",
        "# Introducing missing values in the 'pclass' column\n",
        "np.random.seed(42)\n",
        "pclass_nan_indices = np.random.choice(numeric_df.index, size=int(0.05 * len(numeric_df)), replace=False)\n",
        "numeric_df.loc[pclass_nan_indices, 'pclass'] = np.nan\n",
        "\n",
        "# Introducing missing values in the 'parch' column\n",
        "parch_nan_indices = np.random.choice(numeric_df.index, size=int(0.70 * len(numeric_df)), replace=False)\n",
        "numeric_df.loc[parch_nan_indices, 'parch'] = np.nan"
      ]
    },
    {
      "cell_type": "markdown",
      "metadata": {
        "id": "YTYbmBjE_2u0"
      },
      "source": [
        "#5. Pandas: Merging Joining and Concatenation"
      ]
    },
    {
      "cell_type": "markdown",
      "metadata": {
        "id": "wjjDIiKP_-EZ"
      },
      "source": [
        "**Q1.** You have two DataFrames `df1` and `df2` where `df1` has a column `student_id` and `df2` has a column `student_id` along with `grade`, how would you merge these DataFrames on `student_id` to keep only the rows present in both DataFrames? Show output of the merge.\n",
        "\n",
        "```python\n",
        "data1 = {\n",
        "    'student_id': [1, 2, 3, 4],\n",
        "    'name': ['Alice', 'Bob', 'Charlie', 'David']\n",
        "}\n",
        "data2 = {\n",
        "    'student_id': [2, 3, 4, 5],\n",
        "    'grade': ['A', 'B', 'C', 'D']\n",
        "}\n",
        "\n",
        "df1 = pd.DataFrame(data1)\n",
        "df2 = pd.DataFrame(data2)\n",
        "```\n",
        "\n",
        "\n",
        "**Q2.** If you are provided with two DataFrames, employees and departments with `employee_id` as the index, how would you join them such that all rows from the employees DataFrame are kept, even if there is no matching department record? (you may assume employees have 2nd column as `employee_name` and departments have 2nd column as `department_name`, and randomly assign its data)\n",
        "\n",
        "```python\n",
        "employees_data = {\n",
        "    'employee_id': [1, 2, 3, 4],\n",
        "    'employee_name': ['Alice', 'Bob', 'Charlie', 'David']\n",
        "}\n",
        "departments_data = {\n",
        "    'employee_id': [2, 3, 4, 1],\n",
        "    'department_name': ['A', 'B', 'C', 'D']\n",
        "}\n",
        "\n",
        "employees = pd.DataFrame(employees_data)\n",
        "departments = pd.DataFrame(departments_data)\n",
        "```\n",
        "\n",
        "\n",
        "\n",
        "**Q3**. Given two DataFrames `df_a` and `df_b` with the same columns, how would you concatenate them vertically, resetting the index so it starts from zero in the combined DataFrame? (you may assume both dataframes have 2 columns each, and randomly assign its data)\n",
        "\n",
        "```python\n",
        "df1 = {\n",
        "    'student_id': [1, 2, 3, 4],\n",
        "    'name': ['Alice', 'Bob', 'Charlie', 'David']\n",
        "}\n",
        "df2 = {\n",
        "    'student_id': [5, 6, 7, 8],\n",
        "    'name': ['Anish', 'Divakar', 'Vaibhav', 'Tanvi']\n",
        "}\n",
        "\n",
        "df_a = pd.DataFrame(df1)\n",
        "df_b = pd.DataFrame(df2)\n",
        "```\n"
      ]
    },
    {
      "cell_type": "markdown",
      "metadata": {
        "id": "htAymA94uZGQ"
      },
      "source": [
        "#6. Pandas: Advanced Operations (Evaluation and Query)\n",
        "\n",
        "\n",
        "\n",
        "\n",
        "You are provided with the dataset, `iris`, which contains information about iris flower species and their physical measurements. Your task is to use :\n",
        "\n",
        "\n",
        "**Q1** **Pandas advanced operations** such as evaluation (`eval`) and conditional querying (`query`) to analyze and extract insights from the dataset.\n",
        "\n",
        "\n",
        "\n",
        "**Q2** **Load and Inspect the Data**\n",
        "- Run `iris = sns.load_dataset('iris')` to load the dataset.\n",
        "- Display the first 5 rows of the dataset.\n",
        "- Print the summary statistics of the dataset.\n",
        "\n",
        "\n",
        "**Q3** **Filter the Data Using `query`**\n",
        "- Use the `query` method to:\n",
        "  1. Find all flowers with a `sepal_length`> 6.5 and a `petal_length` > 5.\n",
        "  2. Find all `virginica` flowers with a `petal_width` less than 2.\n",
        "\n",
        "\n",
        "\n",
        "**Q4** **Use `eval` for Calculations**\n",
        "- Create a new column `petal_area` using the formula:  \n",
        "  `petal_area = petal_length * petal_width`\n",
        "- Display the top 5 flowers with the largest `petal_area`.\n",
        "- Use `query` to filter flowers that meet the following conditions:\n",
        "  - `petal_area` > 10\n",
        "  - `sepal_length` is in the range 5 to 7.\n",
        "\n",
        "\n",
        "\n",
        "**Q5** **Analyze and Visualize**\n",
        "- Perform a group-wise analysis:\n",
        "  1. Calculate the **average petal length** for each species.\n",
        "  2. Find the **count of flowers** for each species.\n",
        "  3. Create a scatter plot of `sepal_length` vs. `petal_length`, colored by species.\n"
      ]
    },
    {
      "cell_type": "markdown",
      "metadata": {
        "id": "cC0eIiQxT6nI"
      },
      "source": [
        "#7. Matplotlib: Basic Plotting Questions\n",
        "\n",
        "**Q1. Line Plot**\n",
        "\n",
        "Plot a sine wave (\\(y = sin(x)\\)) for \\(x in [0, 2π]\\). Customize the plot by:\n",
        "1. Adding a title to the graph.\n",
        "2. Adding labels for the x-axis and y-axis.\n",
        "3. Displaying a grid.\n",
        "\n",
        "\n",
        "**Q2. Multiple Line Plots**\n",
        "\n",
        "Plot the following functions on the same graph for \\(x \\in [0, 2π]\\):\n",
        "1. \\(y_1 = sin(x)\\)\n",
        "2. \\(y_2 = cos(x)\\)\n",
        "Customize the graph by:\n",
        "- Using different colors and line styles for each function.\n",
        "- Adding a legend to identify the curves.\n",
        "\n",
        "\n",
        "\n",
        "**Q3. Plot Customization**\n",
        "\n",
        "Plot the function \\(y = x^2\\) for \\(x \\in [-10, 10]\\). Customize the plot by:\n",
        "1. Adding a title and axis labels.\n",
        "2. Changing the line style, color, and thickness.\n",
        "3. Adjusting the axis limits to make the graph more visually appealing.\n"
      ]
    },
    {
      "cell_type": "markdown",
      "metadata": {
        "id": "Xx5PqjMKu5sa"
      },
      "source": [
        "#8a. Bar Plot\n",
        "\n",
        "**Q1** You are provided with the `tips` dataset. Your task is to create a **bar plot** using Matplotlib.\n",
        "\n",
        "- Load the `tips` dataset using Seaborn:  \n",
        "  ```python\n",
        "  import seaborn as sns\n",
        "  tips = sns.load_dataset('tips')\n",
        "```\n",
        "- Create a bar plot showing the average tip for each day of the week.\n",
        "Label the x-axis as Day, the y-axis as Average Tip, and add a title: \"Average Tip by Day\".\n",
        "\n",
        "- Based on the bar plot, which day has the highest average tip?\n"
      ]
    },
    {
      "cell_type": "markdown",
      "metadata": {
        "id": "9h9xBYVPww2c"
      },
      "source": [
        "Based on the bar-plot above the **Sunday** has the highest average tip"
      ]
    },
    {
      "cell_type": "markdown",
      "metadata": {
        "id": "VBuqEqDiu9kG"
      },
      "source": [
        "#8b. Scatter Plot\n",
        "\n",
        "**Q1.** You are provided with the `tips` dataset. Your task is to create a **scatter plot** using Matplotlib.\n",
        "\n",
        "- Load the `tips` dataset using Seaborn:  \n",
        "  ```python\n",
        "  import seaborn as sns\n",
        "  tips = sns.load_dataset('tips')\n",
        "  ```\n",
        "\n",
        "- Create a scatter plot with total_bill on the x-axis and tip on the y-axis.\n",
        "- Label the x-axis as Total Bill, the y-axis as Tip, and add a title: \"Relationship between Total Bill and Tip\".\n",
        "\n",
        "- Based on the scatter plot, do you observe any relationship between total_bill and tip?\n"
      ]
    },
    {
      "cell_type": "markdown",
      "metadata": {
        "id": "f7iLzvoAyOZA"
      },
      "source": [
        "There appears to be a positive relationship between `total_bill` and `tip`. As the total bill increases, the tip generally tends to increase as well. However, the relationship **does not appear to be perfectly linear**, and there is some **variability** in the amount of tip given for a given total bill"
      ]
    },
    {
      "cell_type": "markdown",
      "metadata": {
        "id": "GDKH1CtQtq6L"
      },
      "source": [
        "#9. Matplotlib: Subplots and Layouts\n",
        "\n",
        "**Q1.** Create a 2x2 grid of subplots with:\n",
        "- Subplot (1,1): Plot y = sin(x).\n",
        "- Subplot (1,2): Plot y = cos(x) .\n",
        "- Subplot (2,1): Plot y = e<sup>−x</sup>\n",
        "- Subplot (2,2): Plot y=ln(x) for x∈[0.1,2].\n",
        "\n",
        "Customize background colors, add unique x and y labels, and set titles.\n",
        "\n",
        "**Q2.** Create a subplot within another subplot:\n",
        "- Main subplot: Display a scatter plot of 100 random points with x and y values between 0 and 1.\n",
        "- Inset subplot: Display a histogram of the x-values from the scatter plot.\n",
        "\n",
        "**Q3.** Create a Layout with One Large and Two Smaller Subplots\n",
        "\n",
        "- Design a large subplot occupying the top two-thirds of the figure and plot \\( y = sin(x) \\) and \\( y = cos(x) \\) on the same graph.  \n",
        "\n",
        "- Create two smaller subplots in the bottom row:  \n",
        "   - On the left, plot y =x<sup>2</sup>.  \n",
        "   - On the right, plot y = e<sup>x</sup>.  \n",
        "\n",
        "Ensure each subplot has appropriate titles, axis labels, and legends where necessary. Use a clean layout that avoids overlapping elements.\n",
        "\n",
        "\n"
      ]
    },
    {
      "cell_type": "markdown",
      "metadata": {
        "id": "XALRioST1mCM"
      },
      "source": [
        "#10. Matplotlib: Advanced Customization"
      ]
    },
    {
      "cell_type": "markdown",
      "metadata": {
        "id": "FVwjipWz3HPr"
      },
      "source": [
        "**Q1. Customizing Axes and Ticks**\n",
        "\n",
        "Create a line plot for y = x^2 in the range -10 to 10.\n",
        "Customize the axes and ticks:\n",
        "1. Set x-axis range to -10 to 10.\n",
        "2. Set y-axis range to 0 to 100.\n",
        "3. Use custom tick marks at intervals of 2 for x-axis and 10 for y-axis.\n",
        "4. Rotate x-axis tick labels by 45 degrees.\n",
        "\n",
        "**Q2. Multiple Subplots with Shared Legend and Grid Customization**\n",
        "\n",
        "Create a figure with four subplots (2x2 grid) showing different trigonometric functions:\n",
        "1. Top-left: y = sin(x)\n",
        "2. Top-right: y = cos(x)\n",
        "3. Bottom-left: y = tan(x) (restrict x to avoid undefined regions).\n",
        "4. Bottom-right: y = sin^2(x) + cos^2(x) (should always equal 1).\n",
        "\n",
        "**Q3. Subplots and Shared Axes**\n",
        "\n",
        "Create two subplots side-by-side:\n",
        "1. Bar chart for sales (random data) from January to June.\n",
        "2. Line chart for cumulative sales.\n",
        "Share the y-axis and add titles, a common x-axis label, and a grid for the second plot.\n",
        "\n",
        "**Q4. Adding Annotations**\n",
        "\n",
        "Create a scatter plot of 10 random points:\n",
        "1. Annotate the point with the max y-coordinate with a red star and text label.\n",
        "2. Customize marker size and color for all points.\n",
        "\n",
        "**Q5. Creating a Custom Colormap**\n",
        "\n",
        "Generate a heatmap for a 5x5 matrix of random numbers between 0 and 1:\n",
        "1. Use a custom colormap (blue to red).\n",
        "2. Add a color bar and display exact cell values rounded to 2 decimals.\n",
        "\n",
        "\n",
        "**Q6. Customization of 3D Plot**\n",
        "\n",
        "Using Matplotlib’s mpl_toolkits.mplot3d, create a 3D surface plot for the function:\n",
        "z = sin(sqrt(x^2 + y^2))\n",
        "\n",
        "Requirements:\n",
        "1. Generate x and y values in the range -5 to 5 using a meshgrid.\n",
        "2. Use a custom colormap that highlights peaks and valleys (e.g., `coolwarm`).\n",
        "3. Add a color bar with a label \"Amplitude\".\n",
        "4. Add labels for all three axes and a title.\n",
        "5. Rotate the 3D plot to a custom viewing angle using ax.view_init."
      ]
    }
  ],
  "metadata": {
    "colab": {
      "provenance": []
    },
    "kernelspec": {
      "display_name": "Python 3",
      "name": "python3"
    },
    "language_info": {
      "codemirror_mode": {
        "name": "ipython",
        "version": 3
      },
      "file_extension": ".py",
      "mimetype": "text/x-python",
      "name": "python",
      "nbconvert_exporter": "python",
      "pygments_lexer": "ipython3",
      "version": "3.12.5"
    }
  },
  "nbformat": 4,
  "nbformat_minor": 0
}
