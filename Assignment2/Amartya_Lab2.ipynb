{
  "cells": [
    {
      "cell_type": "code",
      "execution_count": 1,
      "metadata": {
        "id": "CMcpPbzBCfUg"
      },
      "outputs": [],
      "source": [
        "import pandas as pd\n",
        "import numpy as np\n",
        "import matplotlib.pyplot as plt\n",
        "import seaborn as sns\n",
        "import warnings\n",
        "warnings.filterwarnings('ignore')\n",
        "%config inlineBackend.figure_format = 'retina'"
      ]
    },
    {
      "cell_type": "markdown",
      "metadata": {
        "id": "1L5HYuFZZtco"
      },
      "source": [
        "# 1. Basic Operations"
      ]
    },
    {
      "cell_type": "markdown",
      "metadata": {
        "id": "rdSMErJ-Zz07"
      },
      "source": [
        "**Q1.** Write code to create a DataFrame from a dictionary containing student names and their scores in three subjects (Math, Science, English).<br/>\n",
        "* Write a code to add a new column `Total Marks`, which calculates the total marks for each student.\n",
        "* Print first five rows of the DataFrame and summary statistics using the `describe()` method.\n",
        "\n",
        "\n",
        "```python\n",
        "data = {\n",
        "    'Name': ['Virat', 'Dhoni', 'Rohit', 'Sachin', 'Gavaskar'],\n",
        "    'Math': [90, 80, 85, 70, 95],\n",
        "    'Science': [85, 88, 90, 75, 92],\n",
        "    'English': [78, 85, 82, 90, 88]\n",
        "}\n",
        "```"
      ]
    },
    {
      "cell_type": "code",
      "execution_count": 2,
      "metadata": {},
      "outputs": [
        {
          "data": {
            "text/html": [
              "<div>\n",
              "<style scoped>\n",
              "    .dataframe tbody tr th:only-of-type {\n",
              "        vertical-align: middle;\n",
              "    }\n",
              "\n",
              "    .dataframe tbody tr th {\n",
              "        vertical-align: top;\n",
              "    }\n",
              "\n",
              "    .dataframe thead th {\n",
              "        text-align: right;\n",
              "    }\n",
              "</style>\n",
              "<table border=\"1\" class=\"dataframe\">\n",
              "  <thead>\n",
              "    <tr style=\"text-align: right;\">\n",
              "      <th></th>\n",
              "      <th>Math</th>\n",
              "      <th>Science</th>\n",
              "      <th>English</th>\n",
              "    </tr>\n",
              "  </thead>\n",
              "  <tbody>\n",
              "    <tr>\n",
              "      <th>count</th>\n",
              "      <td>5.000000</td>\n",
              "      <td>5.000000</td>\n",
              "      <td>5.000000</td>\n",
              "    </tr>\n",
              "    <tr>\n",
              "      <th>mean</th>\n",
              "      <td>84.000000</td>\n",
              "      <td>86.000000</td>\n",
              "      <td>84.600000</td>\n",
              "    </tr>\n",
              "    <tr>\n",
              "      <th>std</th>\n",
              "      <td>9.617692</td>\n",
              "      <td>6.670832</td>\n",
              "      <td>4.774935</td>\n",
              "    </tr>\n",
              "    <tr>\n",
              "      <th>min</th>\n",
              "      <td>70.000000</td>\n",
              "      <td>75.000000</td>\n",
              "      <td>78.000000</td>\n",
              "    </tr>\n",
              "    <tr>\n",
              "      <th>25%</th>\n",
              "      <td>80.000000</td>\n",
              "      <td>85.000000</td>\n",
              "      <td>82.000000</td>\n",
              "    </tr>\n",
              "    <tr>\n",
              "      <th>50%</th>\n",
              "      <td>85.000000</td>\n",
              "      <td>88.000000</td>\n",
              "      <td>85.000000</td>\n",
              "    </tr>\n",
              "    <tr>\n",
              "      <th>75%</th>\n",
              "      <td>90.000000</td>\n",
              "      <td>90.000000</td>\n",
              "      <td>88.000000</td>\n",
              "    </tr>\n",
              "    <tr>\n",
              "      <th>max</th>\n",
              "      <td>95.000000</td>\n",
              "      <td>92.000000</td>\n",
              "      <td>90.000000</td>\n",
              "    </tr>\n",
              "  </tbody>\n",
              "</table>\n",
              "</div>"
            ],
            "text/plain": [
              "            Math    Science    English\n",
              "count   5.000000   5.000000   5.000000\n",
              "mean   84.000000  86.000000  84.600000\n",
              "std     9.617692   6.670832   4.774935\n",
              "min    70.000000  75.000000  78.000000\n",
              "25%    80.000000  85.000000  82.000000\n",
              "50%    85.000000  88.000000  85.000000\n",
              "75%    90.000000  90.000000  88.000000\n",
              "max    95.000000  92.000000  90.000000"
            ]
          },
          "execution_count": 2,
          "metadata": {},
          "output_type": "execute_result"
        }
      ],
      "source": [
        "df = pd.DataFrame(data = {\n",
        "    'Name': ['Virat', 'Dhoni', 'Rohit', 'Sachin', 'Gavaskar'],\n",
        "    'Math': [90, 80, 85, 70, 95],\n",
        "    'Science': [85, 88, 90, 75, 92],\n",
        "    'English': [78, 85, 82, 90, 88]\n",
        "})\n",
        "df.describe()"
      ]
    },
    {
      "cell_type": "markdown",
      "metadata": {
        "id": "vv3nqYtcbPXI"
      },
      "source": [
        "**Q2.** Create a dummy CSV file named students.csv containing the following columns: Name, Age, Gender, and Marks (atleast 5 entries). Perform the following tasks:\n",
        "\n",
        "- Load the file into a DataFrame using Pandas.\n",
        "- Display the last 3 rows of the DataFrame.\n",
        "- Print the total number of rows and columns in the DataFrame."
      ]
    },
    {
      "cell_type": "code",
      "execution_count": 3,
      "metadata": {},
      "outputs": [
        {
          "ename": "FileNotFoundError",
          "evalue": "[Errno 2] No such file or directory: 'nig.csv'",
          "output_type": "error",
          "traceback": [
            "\u001b[1;31m---------------------------------------------------------------------------\u001b[0m",
            "\u001b[1;31mFileNotFoundError\u001b[0m                         Traceback (most recent call last)",
            "Cell \u001b[1;32mIn[3], line 1\u001b[0m\n\u001b[1;32m----> 1\u001b[0m df \u001b[38;5;241m=\u001b[39m \u001b[43mpd\u001b[49m\u001b[38;5;241;43m.\u001b[39;49m\u001b[43mread_csv\u001b[49m\u001b[43m(\u001b[49m\u001b[38;5;124;43m\"\u001b[39;49m\u001b[38;5;124;43mnig.csv\u001b[39;49m\u001b[38;5;124;43m\"\u001b[39;49m\u001b[43m)\u001b[49m\n\u001b[0;32m      2\u001b[0m df\n",
            "File \u001b[1;32mc:\\Users\\Divyansh Sharma\\AppData\\Local\\Programs\\Python\\Python312\\Lib\\site-packages\\pandas\\io\\parsers\\readers.py:1026\u001b[0m, in \u001b[0;36mread_csv\u001b[1;34m(filepath_or_buffer, sep, delimiter, header, names, index_col, usecols, dtype, engine, converters, true_values, false_values, skipinitialspace, skiprows, skipfooter, nrows, na_values, keep_default_na, na_filter, verbose, skip_blank_lines, parse_dates, infer_datetime_format, keep_date_col, date_parser, date_format, dayfirst, cache_dates, iterator, chunksize, compression, thousands, decimal, lineterminator, quotechar, quoting, doublequote, escapechar, comment, encoding, encoding_errors, dialect, on_bad_lines, delim_whitespace, low_memory, memory_map, float_precision, storage_options, dtype_backend)\u001b[0m\n\u001b[0;32m   1013\u001b[0m kwds_defaults \u001b[38;5;241m=\u001b[39m _refine_defaults_read(\n\u001b[0;32m   1014\u001b[0m     dialect,\n\u001b[0;32m   1015\u001b[0m     delimiter,\n\u001b[1;32m   (...)\u001b[0m\n\u001b[0;32m   1022\u001b[0m     dtype_backend\u001b[38;5;241m=\u001b[39mdtype_backend,\n\u001b[0;32m   1023\u001b[0m )\n\u001b[0;32m   1024\u001b[0m kwds\u001b[38;5;241m.\u001b[39mupdate(kwds_defaults)\n\u001b[1;32m-> 1026\u001b[0m \u001b[38;5;28;01mreturn\u001b[39;00m \u001b[43m_read\u001b[49m\u001b[43m(\u001b[49m\u001b[43mfilepath_or_buffer\u001b[49m\u001b[43m,\u001b[49m\u001b[43m \u001b[49m\u001b[43mkwds\u001b[49m\u001b[43m)\u001b[49m\n",
            "File \u001b[1;32mc:\\Users\\Divyansh Sharma\\AppData\\Local\\Programs\\Python\\Python312\\Lib\\site-packages\\pandas\\io\\parsers\\readers.py:620\u001b[0m, in \u001b[0;36m_read\u001b[1;34m(filepath_or_buffer, kwds)\u001b[0m\n\u001b[0;32m    617\u001b[0m _validate_names(kwds\u001b[38;5;241m.\u001b[39mget(\u001b[38;5;124m\"\u001b[39m\u001b[38;5;124mnames\u001b[39m\u001b[38;5;124m\"\u001b[39m, \u001b[38;5;28;01mNone\u001b[39;00m))\n\u001b[0;32m    619\u001b[0m \u001b[38;5;66;03m# Create the parser.\u001b[39;00m\n\u001b[1;32m--> 620\u001b[0m parser \u001b[38;5;241m=\u001b[39m \u001b[43mTextFileReader\u001b[49m\u001b[43m(\u001b[49m\u001b[43mfilepath_or_buffer\u001b[49m\u001b[43m,\u001b[49m\u001b[43m \u001b[49m\u001b[38;5;241;43m*\u001b[39;49m\u001b[38;5;241;43m*\u001b[39;49m\u001b[43mkwds\u001b[49m\u001b[43m)\u001b[49m\n\u001b[0;32m    622\u001b[0m \u001b[38;5;28;01mif\u001b[39;00m chunksize \u001b[38;5;129;01mor\u001b[39;00m iterator:\n\u001b[0;32m    623\u001b[0m     \u001b[38;5;28;01mreturn\u001b[39;00m parser\n",
            "File \u001b[1;32mc:\\Users\\Divyansh Sharma\\AppData\\Local\\Programs\\Python\\Python312\\Lib\\site-packages\\pandas\\io\\parsers\\readers.py:1620\u001b[0m, in \u001b[0;36mTextFileReader.__init__\u001b[1;34m(self, f, engine, **kwds)\u001b[0m\n\u001b[0;32m   1617\u001b[0m     \u001b[38;5;28mself\u001b[39m\u001b[38;5;241m.\u001b[39moptions[\u001b[38;5;124m\"\u001b[39m\u001b[38;5;124mhas_index_names\u001b[39m\u001b[38;5;124m\"\u001b[39m] \u001b[38;5;241m=\u001b[39m kwds[\u001b[38;5;124m\"\u001b[39m\u001b[38;5;124mhas_index_names\u001b[39m\u001b[38;5;124m\"\u001b[39m]\n\u001b[0;32m   1619\u001b[0m \u001b[38;5;28mself\u001b[39m\u001b[38;5;241m.\u001b[39mhandles: IOHandles \u001b[38;5;241m|\u001b[39m \u001b[38;5;28;01mNone\u001b[39;00m \u001b[38;5;241m=\u001b[39m \u001b[38;5;28;01mNone\u001b[39;00m\n\u001b[1;32m-> 1620\u001b[0m \u001b[38;5;28mself\u001b[39m\u001b[38;5;241m.\u001b[39m_engine \u001b[38;5;241m=\u001b[39m \u001b[38;5;28;43mself\u001b[39;49m\u001b[38;5;241;43m.\u001b[39;49m\u001b[43m_make_engine\u001b[49m\u001b[43m(\u001b[49m\u001b[43mf\u001b[49m\u001b[43m,\u001b[49m\u001b[43m \u001b[49m\u001b[38;5;28;43mself\u001b[39;49m\u001b[38;5;241;43m.\u001b[39;49m\u001b[43mengine\u001b[49m\u001b[43m)\u001b[49m\n",
            "File \u001b[1;32mc:\\Users\\Divyansh Sharma\\AppData\\Local\\Programs\\Python\\Python312\\Lib\\site-packages\\pandas\\io\\parsers\\readers.py:1880\u001b[0m, in \u001b[0;36mTextFileReader._make_engine\u001b[1;34m(self, f, engine)\u001b[0m\n\u001b[0;32m   1878\u001b[0m     \u001b[38;5;28;01mif\u001b[39;00m \u001b[38;5;124m\"\u001b[39m\u001b[38;5;124mb\u001b[39m\u001b[38;5;124m\"\u001b[39m \u001b[38;5;129;01mnot\u001b[39;00m \u001b[38;5;129;01min\u001b[39;00m mode:\n\u001b[0;32m   1879\u001b[0m         mode \u001b[38;5;241m+\u001b[39m\u001b[38;5;241m=\u001b[39m \u001b[38;5;124m\"\u001b[39m\u001b[38;5;124mb\u001b[39m\u001b[38;5;124m\"\u001b[39m\n\u001b[1;32m-> 1880\u001b[0m \u001b[38;5;28mself\u001b[39m\u001b[38;5;241m.\u001b[39mhandles \u001b[38;5;241m=\u001b[39m \u001b[43mget_handle\u001b[49m\u001b[43m(\u001b[49m\n\u001b[0;32m   1881\u001b[0m \u001b[43m    \u001b[49m\u001b[43mf\u001b[49m\u001b[43m,\u001b[49m\n\u001b[0;32m   1882\u001b[0m \u001b[43m    \u001b[49m\u001b[43mmode\u001b[49m\u001b[43m,\u001b[49m\n\u001b[0;32m   1883\u001b[0m \u001b[43m    \u001b[49m\u001b[43mencoding\u001b[49m\u001b[38;5;241;43m=\u001b[39;49m\u001b[38;5;28;43mself\u001b[39;49m\u001b[38;5;241;43m.\u001b[39;49m\u001b[43moptions\u001b[49m\u001b[38;5;241;43m.\u001b[39;49m\u001b[43mget\u001b[49m\u001b[43m(\u001b[49m\u001b[38;5;124;43m\"\u001b[39;49m\u001b[38;5;124;43mencoding\u001b[39;49m\u001b[38;5;124;43m\"\u001b[39;49m\u001b[43m,\u001b[49m\u001b[43m \u001b[49m\u001b[38;5;28;43;01mNone\u001b[39;49;00m\u001b[43m)\u001b[49m\u001b[43m,\u001b[49m\n\u001b[0;32m   1884\u001b[0m \u001b[43m    \u001b[49m\u001b[43mcompression\u001b[49m\u001b[38;5;241;43m=\u001b[39;49m\u001b[38;5;28;43mself\u001b[39;49m\u001b[38;5;241;43m.\u001b[39;49m\u001b[43moptions\u001b[49m\u001b[38;5;241;43m.\u001b[39;49m\u001b[43mget\u001b[49m\u001b[43m(\u001b[49m\u001b[38;5;124;43m\"\u001b[39;49m\u001b[38;5;124;43mcompression\u001b[39;49m\u001b[38;5;124;43m\"\u001b[39;49m\u001b[43m,\u001b[49m\u001b[43m \u001b[49m\u001b[38;5;28;43;01mNone\u001b[39;49;00m\u001b[43m)\u001b[49m\u001b[43m,\u001b[49m\n\u001b[0;32m   1885\u001b[0m \u001b[43m    \u001b[49m\u001b[43mmemory_map\u001b[49m\u001b[38;5;241;43m=\u001b[39;49m\u001b[38;5;28;43mself\u001b[39;49m\u001b[38;5;241;43m.\u001b[39;49m\u001b[43moptions\u001b[49m\u001b[38;5;241;43m.\u001b[39;49m\u001b[43mget\u001b[49m\u001b[43m(\u001b[49m\u001b[38;5;124;43m\"\u001b[39;49m\u001b[38;5;124;43mmemory_map\u001b[39;49m\u001b[38;5;124;43m\"\u001b[39;49m\u001b[43m,\u001b[49m\u001b[43m \u001b[49m\u001b[38;5;28;43;01mFalse\u001b[39;49;00m\u001b[43m)\u001b[49m\u001b[43m,\u001b[49m\n\u001b[0;32m   1886\u001b[0m \u001b[43m    \u001b[49m\u001b[43mis_text\u001b[49m\u001b[38;5;241;43m=\u001b[39;49m\u001b[43mis_text\u001b[49m\u001b[43m,\u001b[49m\n\u001b[0;32m   1887\u001b[0m \u001b[43m    \u001b[49m\u001b[43merrors\u001b[49m\u001b[38;5;241;43m=\u001b[39;49m\u001b[38;5;28;43mself\u001b[39;49m\u001b[38;5;241;43m.\u001b[39;49m\u001b[43moptions\u001b[49m\u001b[38;5;241;43m.\u001b[39;49m\u001b[43mget\u001b[49m\u001b[43m(\u001b[49m\u001b[38;5;124;43m\"\u001b[39;49m\u001b[38;5;124;43mencoding_errors\u001b[39;49m\u001b[38;5;124;43m\"\u001b[39;49m\u001b[43m,\u001b[49m\u001b[43m \u001b[49m\u001b[38;5;124;43m\"\u001b[39;49m\u001b[38;5;124;43mstrict\u001b[39;49m\u001b[38;5;124;43m\"\u001b[39;49m\u001b[43m)\u001b[49m\u001b[43m,\u001b[49m\n\u001b[0;32m   1888\u001b[0m \u001b[43m    \u001b[49m\u001b[43mstorage_options\u001b[49m\u001b[38;5;241;43m=\u001b[39;49m\u001b[38;5;28;43mself\u001b[39;49m\u001b[38;5;241;43m.\u001b[39;49m\u001b[43moptions\u001b[49m\u001b[38;5;241;43m.\u001b[39;49m\u001b[43mget\u001b[49m\u001b[43m(\u001b[49m\u001b[38;5;124;43m\"\u001b[39;49m\u001b[38;5;124;43mstorage_options\u001b[39;49m\u001b[38;5;124;43m\"\u001b[39;49m\u001b[43m,\u001b[49m\u001b[43m \u001b[49m\u001b[38;5;28;43;01mNone\u001b[39;49;00m\u001b[43m)\u001b[49m\u001b[43m,\u001b[49m\n\u001b[0;32m   1889\u001b[0m \u001b[43m\u001b[49m\u001b[43m)\u001b[49m\n\u001b[0;32m   1890\u001b[0m \u001b[38;5;28;01massert\u001b[39;00m \u001b[38;5;28mself\u001b[39m\u001b[38;5;241m.\u001b[39mhandles \u001b[38;5;129;01mis\u001b[39;00m \u001b[38;5;129;01mnot\u001b[39;00m \u001b[38;5;28;01mNone\u001b[39;00m\n\u001b[0;32m   1891\u001b[0m f \u001b[38;5;241m=\u001b[39m \u001b[38;5;28mself\u001b[39m\u001b[38;5;241m.\u001b[39mhandles\u001b[38;5;241m.\u001b[39mhandle\n",
            "File \u001b[1;32mc:\\Users\\Divyansh Sharma\\AppData\\Local\\Programs\\Python\\Python312\\Lib\\site-packages\\pandas\\io\\common.py:873\u001b[0m, in \u001b[0;36mget_handle\u001b[1;34m(path_or_buf, mode, encoding, compression, memory_map, is_text, errors, storage_options)\u001b[0m\n\u001b[0;32m    868\u001b[0m \u001b[38;5;28;01melif\u001b[39;00m \u001b[38;5;28misinstance\u001b[39m(handle, \u001b[38;5;28mstr\u001b[39m):\n\u001b[0;32m    869\u001b[0m     \u001b[38;5;66;03m# Check whether the filename is to be opened in binary mode.\u001b[39;00m\n\u001b[0;32m    870\u001b[0m     \u001b[38;5;66;03m# Binary mode does not support 'encoding' and 'newline'.\u001b[39;00m\n\u001b[0;32m    871\u001b[0m     \u001b[38;5;28;01mif\u001b[39;00m ioargs\u001b[38;5;241m.\u001b[39mencoding \u001b[38;5;129;01mand\u001b[39;00m \u001b[38;5;124m\"\u001b[39m\u001b[38;5;124mb\u001b[39m\u001b[38;5;124m\"\u001b[39m \u001b[38;5;129;01mnot\u001b[39;00m \u001b[38;5;129;01min\u001b[39;00m ioargs\u001b[38;5;241m.\u001b[39mmode:\n\u001b[0;32m    872\u001b[0m         \u001b[38;5;66;03m# Encoding\u001b[39;00m\n\u001b[1;32m--> 873\u001b[0m         handle \u001b[38;5;241m=\u001b[39m \u001b[38;5;28;43mopen\u001b[39;49m\u001b[43m(\u001b[49m\n\u001b[0;32m    874\u001b[0m \u001b[43m            \u001b[49m\u001b[43mhandle\u001b[49m\u001b[43m,\u001b[49m\n\u001b[0;32m    875\u001b[0m \u001b[43m            \u001b[49m\u001b[43mioargs\u001b[49m\u001b[38;5;241;43m.\u001b[39;49m\u001b[43mmode\u001b[49m\u001b[43m,\u001b[49m\n\u001b[0;32m    876\u001b[0m \u001b[43m            \u001b[49m\u001b[43mencoding\u001b[49m\u001b[38;5;241;43m=\u001b[39;49m\u001b[43mioargs\u001b[49m\u001b[38;5;241;43m.\u001b[39;49m\u001b[43mencoding\u001b[49m\u001b[43m,\u001b[49m\n\u001b[0;32m    877\u001b[0m \u001b[43m            \u001b[49m\u001b[43merrors\u001b[49m\u001b[38;5;241;43m=\u001b[39;49m\u001b[43merrors\u001b[49m\u001b[43m,\u001b[49m\n\u001b[0;32m    878\u001b[0m \u001b[43m            \u001b[49m\u001b[43mnewline\u001b[49m\u001b[38;5;241;43m=\u001b[39;49m\u001b[38;5;124;43m\"\u001b[39;49m\u001b[38;5;124;43m\"\u001b[39;49m\u001b[43m,\u001b[49m\n\u001b[0;32m    879\u001b[0m \u001b[43m        \u001b[49m\u001b[43m)\u001b[49m\n\u001b[0;32m    880\u001b[0m     \u001b[38;5;28;01melse\u001b[39;00m:\n\u001b[0;32m    881\u001b[0m         \u001b[38;5;66;03m# Binary mode\u001b[39;00m\n\u001b[0;32m    882\u001b[0m         handle \u001b[38;5;241m=\u001b[39m \u001b[38;5;28mopen\u001b[39m(handle, ioargs\u001b[38;5;241m.\u001b[39mmode)\n",
            "\u001b[1;31mFileNotFoundError\u001b[0m: [Errno 2] No such file or directory: 'nig.csv'"
          ]
        }
      ],
      "source": [
        "df = pd.read_csv(\"nig.csv\")\n",
        "df"
      ]
    },
    {
      "cell_type": "markdown",
      "metadata": {
        "id": "K7Q7mbEocP7J"
      },
      "source": [
        "**Q3.** Create and populate a DataFrame with columns Employee_ID, Name, Department, and Salary. Now perform the following:\n",
        "\n",
        "- Add a new column Bonus where each employee gets 10% of their Salary.\n",
        "- Increase the Salary of all employees in the IT department by 20%.\n",
        "- Drop the Department column from the DataFrame.\n"
      ]
    },
    {
      "cell_type": "code",
      "execution_count": 20,
      "metadata": {},
      "outputs": [
        {
          "name": "stdout",
          "output_type": "stream",
          "text": [
            "  Employee  Salary  ID   bonus\n",
            "0       E1   50000   5  5000.0\n",
            "1       E2   60000   3  6000.0\n",
            "2       E3   55000   6  5500.0\n",
            "3       E4   58000   2  5800.0\n",
            "4       E5   52000   4  5200.0\n"
          ]
        }
      ],
      "source": [
        "df = pd.DataFrame(data = {\n",
        "    'Employee': ['E1', 'E2', 'E3', 'E4', 'E5'],\n",
        "    'Department': ['HR', 'IT', 'Finance', 'IT', 'HR'],\n",
        "    'Salary': [50000, 60000, 55000, 58000, 52000],\n",
        "    'ID': [5, 3, 6, 2, 4]\n",
        "})\n",
        "df['bonus'] = df['Salary']*0.1\n",
        "df = df.drop(columns=['Department'])\n",
        "print(df)"
      ]
    },
    {
      "cell_type": "markdown",
      "metadata": {
        "id": "1z0HOeKHHurz"
      },
      "source": [
        "# 2. Indexing and Slicing"
      ]
    },
    {
      "cell_type": "markdown",
      "metadata": {
        "id": "FaDAzqstHyhP"
      },
      "source": [
        "**Q1.** You are given a data about employees' performance:\n",
        "\n",
        "```\n",
        "data = {\n",
        "    'Employee': ['E1', 'E2', 'E3', 'E4', 'E5'],\n",
        "    'Department': ['HR', 'IT', 'Finance', 'IT', 'HR'],\n",
        "    'Salary': [50000, 60000, 55000, 58000, 52000],\n",
        "    'Performance_Rating': [8.2, 7.8, 8.5, 7.4, 8.0],\n",
        "    'Years_at_Company': [5, 3, 6, 2, 4]\n",
        "}\n",
        "```\n",
        "Using boolean indexing, select employees who meet all of the following conditions:\n",
        "\n",
        "- Belong to either 'HR' or 'IT' departments.\n",
        "- Have a performance rating greater than or equal to 8.0.\n",
        "- Earn a salary less than 55,000 or have been with the company for at least 4 years.\n"
      ]
    },
    {
      "cell_type": "code",
      "execution_count": 21,
      "metadata": {},
      "outputs": [
        {
          "data": {
            "text/html": [
              "<div>\n",
              "<style scoped>\n",
              "    .dataframe tbody tr th:only-of-type {\n",
              "        vertical-align: middle;\n",
              "    }\n",
              "\n",
              "    .dataframe tbody tr th {\n",
              "        vertical-align: top;\n",
              "    }\n",
              "\n",
              "    .dataframe thead th {\n",
              "        text-align: right;\n",
              "    }\n",
              "</style>\n",
              "<table border=\"1\" class=\"dataframe\">\n",
              "  <thead>\n",
              "    <tr style=\"text-align: right;\">\n",
              "      <th></th>\n",
              "      <th>Employee</th>\n",
              "      <th>Department</th>\n",
              "      <th>Salary</th>\n",
              "      <th>Performance_Rating</th>\n",
              "      <th>Years_at_Company</th>\n",
              "    </tr>\n",
              "  </thead>\n",
              "  <tbody>\n",
              "    <tr>\n",
              "      <th>0</th>\n",
              "      <td>E1</td>\n",
              "      <td>HR</td>\n",
              "      <td>50000</td>\n",
              "      <td>8.2</td>\n",
              "      <td>5</td>\n",
              "    </tr>\n",
              "  </tbody>\n",
              "</table>\n",
              "</div>"
            ],
            "text/plain": [
              "  Employee Department  Salary  Performance_Rating  Years_at_Company\n",
              "0       E1         HR   50000                 8.2                 5"
            ]
          },
          "execution_count": 21,
          "metadata": {},
          "output_type": "execute_result"
        }
      ],
      "source": [
        "data = pd.DataFrame({\n",
        "    'Employee': ['E1', 'E2', 'E3', 'E4', 'E5'],\n",
        "    'Department': ['HR', 'IT', 'Finance', 'IT', 'HR'],\n",
        "    'Salary': [50000, 60000, 55000, 58000, 52000],\n",
        "    'Performance_Rating': [8.2, 7.8, 8.5, 7.4, 8.0],\n",
        "    'Years_at_Company': [5, 3, 6, 2, 4]\n",
        "})\n",
        "mask = ((data['Department'] == \"HR\") | (data['Department'] == \"IT\")) & (data['Performance_Rating'] > 8.0) & ((data['Salary']<55000) | (data['Years_at_Company']>=4)) \n",
        "data[mask]\n"
      ]
    },
    {
      "cell_type": "markdown",
      "metadata": {
        "id": "rbjBJwZIIqaF"
      },
      "source": [
        "**Q2.** Slicing Rows and Columns\n",
        "\n",
        "```\n",
        "data = {\n",
        "    'Product': ['Laptop', 'Phone', 'Tablet', 'Monitor', 'Headphones'],\n",
        "    'Price': [800, 400, 300, 150, 50],\n",
        "    'Stock': [20, 35, 50, 10, 100],\n",
        "    'Rating': [4.5, 4.2, 3.8, 4.8, 4.0]\n",
        "}\n",
        "```\n",
        "\n",
        "Use slicing to select the following:\n",
        "\n",
        "- The last 3 rows of the DataFrame.\n",
        "- All columns except 'Stock' and 'Rating' from the first 3 rows."
      ]
    },
    {
      "cell_type": "code",
      "execution_count": 29,
      "metadata": {},
      "outputs": [
        {
          "data": {
            "text/html": [
              "<div>\n",
              "<style scoped>\n",
              "    .dataframe tbody tr th:only-of-type {\n",
              "        vertical-align: middle;\n",
              "    }\n",
              "\n",
              "    .dataframe tbody tr th {\n",
              "        vertical-align: top;\n",
              "    }\n",
              "\n",
              "    .dataframe thead th {\n",
              "        text-align: right;\n",
              "    }\n",
              "</style>\n",
              "<table border=\"1\" class=\"dataframe\">\n",
              "  <thead>\n",
              "    <tr style=\"text-align: right;\">\n",
              "      <th></th>\n",
              "      <th>Product</th>\n",
              "      <th>Price</th>\n",
              "    </tr>\n",
              "  </thead>\n",
              "  <tbody>\n",
              "    <tr>\n",
              "      <th>0</th>\n",
              "      <td>Laptop</td>\n",
              "      <td>800</td>\n",
              "    </tr>\n",
              "    <tr>\n",
              "      <th>1</th>\n",
              "      <td>Phone</td>\n",
              "      <td>400</td>\n",
              "    </tr>\n",
              "    <tr>\n",
              "      <th>2</th>\n",
              "      <td>Tablet</td>\n",
              "      <td>300</td>\n",
              "    </tr>\n",
              "  </tbody>\n",
              "</table>\n",
              "</div>"
            ],
            "text/plain": [
              "  Product  Price\n",
              "0  Laptop    800\n",
              "1   Phone    400\n",
              "2  Tablet    300"
            ]
          },
          "execution_count": 29,
          "metadata": {},
          "output_type": "execute_result"
        }
      ],
      "source": [
        "df = pd.DataFrame(data = {\n",
        "    'Product': ['Laptop', 'Phone', 'Tablet', 'Monitor', 'Headphones'],\n",
        "    'Price': [800, 400, 300, 150, 50],\n",
        "    'Stock': [20, 35, 50, 10, 100],\n",
        "    'Rating': [4.5, 4.2, 3.8, 4.8, 4.0]\n",
        "})\n",
        "df[-3:]\n",
        "df.iloc[:3,:2]\n"
      ]
    },
    {
      "cell_type": "markdown",
      "metadata": {
        "id": "3laarPY1JVdH"
      },
      "source": [
        "**Q3.** Label-based Indexing with `.loc[]` and `.iloc[]`\n",
        "\n",
        "```\n",
        "data = {\n",
        "    'Name': ['John', 'Sara', 'Tom', 'Alex', 'Julia'],\n",
        "    'Age': [29, 35, 40, 25, 31],\n",
        "    'Salary': [50000, 60000, 75000, 45000, 52000],\n",
        "    'Department': ['HR', 'Finance', 'IT', 'HR', 'IT']\n",
        "}\n",
        "```\n",
        "\n",
        "Using .loc[] and .iloc[], perform the following tasks:\n",
        "\n",
        "- Select the row corresponding to 'Tom' using label-based indexing.\n",
        "- Select the first two rows and the 'Salary' and 'Department' columns using position-based indexing."
      ]
    },
    {
      "cell_type": "code",
      "execution_count": 30,
      "metadata": {},
      "outputs": [
        {
          "data": {
            "text/html": [
              "<div>\n",
              "<style scoped>\n",
              "    .dataframe tbody tr th:only-of-type {\n",
              "        vertical-align: middle;\n",
              "    }\n",
              "\n",
              "    .dataframe tbody tr th {\n",
              "        vertical-align: top;\n",
              "    }\n",
              "\n",
              "    .dataframe thead th {\n",
              "        text-align: right;\n",
              "    }\n",
              "</style>\n",
              "<table border=\"1\" class=\"dataframe\">\n",
              "  <thead>\n",
              "    <tr style=\"text-align: right;\">\n",
              "      <th></th>\n",
              "      <th>Salary</th>\n",
              "      <th>Department</th>\n",
              "    </tr>\n",
              "  </thead>\n",
              "  <tbody>\n",
              "    <tr>\n",
              "      <th>0</th>\n",
              "      <td>50000</td>\n",
              "      <td>HR</td>\n",
              "    </tr>\n",
              "    <tr>\n",
              "      <th>1</th>\n",
              "      <td>60000</td>\n",
              "      <td>Finance</td>\n",
              "    </tr>\n",
              "  </tbody>\n",
              "</table>\n",
              "</div>"
            ],
            "text/plain": [
              "   Salary Department\n",
              "0   50000         HR\n",
              "1   60000    Finance"
            ]
          },
          "execution_count": 30,
          "metadata": {},
          "output_type": "execute_result"
        }
      ],
      "source": [
        "df = pd.DataFrame(data = {\n",
        "    'Name': ['John', 'Sara', 'Tom', 'Alex', 'Julia'],\n",
        "    'Age': [29, 35, 40, 25, 31],\n",
        "    'Salary': [50000, 60000, 75000, 45000, 52000],\n",
        "    'Department': ['HR', 'Finance', 'IT', 'HR', 'IT']\n",
        "})\n",
        "df.loc[2,'Name']\n",
        "df.iloc[:2,2:]\n"
      ]
    },
    {
      "cell_type": "markdown",
      "metadata": {
        "id": "XwmlBZRPFbp7"
      },
      "source": [
        "# 3. GroupBy and Aggregations\n"
      ]
    },
    {
      "cell_type": "markdown",
      "metadata": {
        "id": "C5JaqbN-FmmA"
      },
      "source": [
        "**Q1.** You have a dataset of students' test scores. The dataset has the following columns:\n",
        "\n",
        "* StudentID: Unique ID of the student.\n",
        "* Subject: The subject of the test.\n",
        "* Score: The score obtained (out of 100).\n",
        "```\n",
        "data = pd.DataFrame({\n",
        "    \"StudentID\": [1, 2, 3, 2, 3, 1],\n",
        "    \"Subject\": [\"Math\", \"Science\", \"Math\",  \"Math\",\"Science\", \"Science\"],\n",
        "    \"Score\": [85, 90, 78, 88, 92, 95]\n",
        "})\n",
        "```\n",
        "\n",
        "* Write a function to calculate the average score for each student. Use this function to group the data by StudentID and find the average score."
      ]
    },
    {
      "cell_type": "code",
      "execution_count": 30,
      "metadata": {},
      "outputs": [
        {
          "data": {
            "text/plain": [
              "StudentID\n",
              "1    90.0\n",
              "2    89.0\n",
              "3    85.0\n",
              "Name: Score, dtype: float64"
            ]
          },
          "execution_count": 30,
          "metadata": {},
          "output_type": "execute_result"
        }
      ],
      "source": [
        "data = pd.DataFrame({\n",
        "    \"StudentID\": [1, 2, 3, 2, 3, 1],\n",
        "    \"Subject\": [\"Math\", \"Science\", \"Math\",  \"Math\",\"Science\", \"Science\"],\n",
        "    \"Score\": [85, 90, 78, 88, 92, 95]\n",
        "})\n",
        "df = pd.DataFrame(data)\n",
        "g = df.groupby(\"StudentID\")\n",
        "g.Score.mean()\n"
      ]
    },
    {
      "cell_type": "markdown",
      "metadata": {
        "id": "yzq5kjDxHToR"
      },
      "source": [
        "\n",
        "\n",
        "**Q2.** Create  a dataset of retail sales with a hierarchical index consisting of `Region` and `StoreID`. The dataset contains the following columns:\n",
        "\n",
        "* ProductCategory: The category of the product sold (e.g., Electronics, Clothing)\n",
        "\n",
        "* Sales: The amount of sales made\n",
        "\n",
        "Group the data by respective level indices  and calculate:\n",
        "\n",
        "* Total sales in each region.\n",
        "* Average sales in each store .\n"
      ]
    },
    {
      "cell_type": "code",
      "execution_count": 32,
      "metadata": {},
      "outputs": [
        {
          "data": {
            "text/plain": [
              "(               ProductCategory  Sales\n",
              " Region StoreID                       \n",
              " North  101         Electronics   4132\n",
              "        101            Clothing   1801\n",
              "        102         Electronics   2754\n",
              " South  201            Clothing   2512\n",
              "        201         Electronics   2864\n",
              "        202            Clothing   4648\n",
              " East   301         Electronics   3440\n",
              "        302            Clothing   2398\n",
              " West   401         Electronics   1151\n",
              "        402            Clothing   3542,\n",
              " Region\n",
              " East      5838\n",
              " North     8687\n",
              " South    10024\n",
              " West      4693\n",
              " Name: Sales, dtype: int32,\n",
              " StoreID\n",
              " 101    2966.5\n",
              " 102    2754.0\n",
              " 201    2688.0\n",
              " 202    4648.0\n",
              " 301    3440.0\n",
              " 302    2398.0\n",
              " 401    1151.0\n",
              " 402    3542.0\n",
              " Name: Sales, dtype: float64)"
            ]
          },
          "execution_count": 32,
          "metadata": {},
          "output_type": "execute_result"
        }
      ],
      "source": [
        "import pandas as pd\n",
        "import numpy as np\n",
        "\n",
        "# Step 1: Create the dataset\n",
        "data = {\n",
        "    \"Region\": [\"North\", \"North\", \"North\", \"South\", \"South\", \"South\", \"East\", \"East\", \"West\", \"West\"],\n",
        "    \"StoreID\": [101, 101, 102, 201, 201, 202, 301, 302, 401, 402],\n",
        "    \"ProductCategory\": [\"Electronics\", \"Clothing\", \"Electronics\", \"Clothing\", \"Electronics\", \"Clothing\", \"Electronics\", \"Clothing\", \"Electronics\", \"Clothing\"],\n",
        "    \"Sales\": np.random.randint(500, 5000, size=10)  # Generate random sales\n",
        "}\n",
        "\n",
        "# Step 2: Convert to DataFrame\n",
        "df = pd.DataFrame(data)\n",
        "\n",
        "# Step 3: Set hierarchical index\n",
        "df.set_index([\"Region\", \"StoreID\"], inplace=True)\n",
        "\n",
        "# Step 4: Calculate total sales by region\n",
        "total_sales_by_region = df.groupby(\"Region\")[\"Sales\"].sum()\n",
        "\n",
        "# Step 5: Calculate average sales per store\n",
        "average_sales_per_store = df.groupby(\"StoreID\")[\"Sales\"].mean()\n",
        "\n",
        "# Output the dataset and results\n",
        "df, total_sales_by_region, average_sales_per_store\n"
      ]
    },
    {
      "cell_type": "markdown",
      "metadata": {
        "id": "u8qWroMxF4dl"
      },
      "source": [
        "**Q3.** You are given a DataFrame `df_orders` as follows:\n",
        "\n",
        "```\n",
        "df_orders = pd.DataFrame({\n",
        "    'Category': ['Electronics', 'Electronics', 'Clothing', 'Clothing', 'Groceries', 'Groceries'],\n",
        "    'Order_ID': ['O1', 'O2', 'O3', 'O4', 'O5', 'O6'],\n",
        "    'Price': [1000, 500, 100, 200, 50, 60],\n",
        "    'Discount': [50, 25, 10, 20, 5, 6],\n",
        "    'Quantity': [1, 2, 3, 1, 4, 5]\n",
        "})\n",
        "```\n",
        "- Group the data by \"`Category`\" and compute:\n",
        "  - Total revenue `(Price * Quantity)`.\n",
        "  - Total discounts given` (Discount * Quantity)`.\n",
        "\n",
        "- For each category find the followng:\n",
        "  * The order with the highest revenue.\n",
        "  * The average discount per order.\n",
        "\n",
        "\n"
      ]
    },
    {
      "cell_type": "code",
      "execution_count": null,
      "metadata": {},
      "outputs": [
        {
          "ename": "AttributeError",
          "evalue": "'DataFrameGroupBy' object has no attribute 'to_string'",
          "output_type": "error",
          "traceback": [
            "\u001b[1;31m---------------------------------------------------------------------------\u001b[0m",
            "\u001b[1;31mAttributeError\u001b[0m                            Traceback (most recent call last)",
            "Cell \u001b[1;32mIn[43], line 10\u001b[0m\n\u001b[0;32m      1\u001b[0m df_orders \u001b[38;5;241m=\u001b[39m pd\u001b[38;5;241m.\u001b[39mDataFrame({\n\u001b[0;32m      2\u001b[0m     \u001b[38;5;124m'\u001b[39m\u001b[38;5;124mCategory\u001b[39m\u001b[38;5;124m'\u001b[39m: [\u001b[38;5;124m'\u001b[39m\u001b[38;5;124mElectronics\u001b[39m\u001b[38;5;124m'\u001b[39m, \u001b[38;5;124m'\u001b[39m\u001b[38;5;124mElectronics\u001b[39m\u001b[38;5;124m'\u001b[39m, \u001b[38;5;124m'\u001b[39m\u001b[38;5;124mClothing\u001b[39m\u001b[38;5;124m'\u001b[39m, \u001b[38;5;124m'\u001b[39m\u001b[38;5;124mClothing\u001b[39m\u001b[38;5;124m'\u001b[39m, \u001b[38;5;124m'\u001b[39m\u001b[38;5;124mGroceries\u001b[39m\u001b[38;5;124m'\u001b[39m, \u001b[38;5;124m'\u001b[39m\u001b[38;5;124mGroceries\u001b[39m\u001b[38;5;124m'\u001b[39m],\n\u001b[0;32m      3\u001b[0m     \u001b[38;5;124m'\u001b[39m\u001b[38;5;124mOrder_ID\u001b[39m\u001b[38;5;124m'\u001b[39m: [\u001b[38;5;124m'\u001b[39m\u001b[38;5;124mO1\u001b[39m\u001b[38;5;124m'\u001b[39m, \u001b[38;5;124m'\u001b[39m\u001b[38;5;124mO2\u001b[39m\u001b[38;5;124m'\u001b[39m, \u001b[38;5;124m'\u001b[39m\u001b[38;5;124mO3\u001b[39m\u001b[38;5;124m'\u001b[39m, \u001b[38;5;124m'\u001b[39m\u001b[38;5;124mO4\u001b[39m\u001b[38;5;124m'\u001b[39m, \u001b[38;5;124m'\u001b[39m\u001b[38;5;124mO5\u001b[39m\u001b[38;5;124m'\u001b[39m, \u001b[38;5;124m'\u001b[39m\u001b[38;5;124mO6\u001b[39m\u001b[38;5;124m'\u001b[39m],\n\u001b[1;32m   (...)\u001b[0m\n\u001b[0;32m      6\u001b[0m     \u001b[38;5;124m'\u001b[39m\u001b[38;5;124mQuantity\u001b[39m\u001b[38;5;124m'\u001b[39m: [\u001b[38;5;241m1\u001b[39m, \u001b[38;5;241m2\u001b[39m, \u001b[38;5;241m3\u001b[39m, \u001b[38;5;241m1\u001b[39m, \u001b[38;5;241m4\u001b[39m, \u001b[38;5;241m5\u001b[39m]\n\u001b[0;32m      7\u001b[0m })\n\u001b[0;32m      8\u001b[0m category_grp \u001b[38;5;241m=\u001b[39m df_orders\u001b[38;5;241m.\u001b[39mgroupby(\u001b[38;5;124m\"\u001b[39m\u001b[38;5;124mCategory\u001b[39m\u001b[38;5;124m\"\u001b[39m)\n\u001b[1;32m---> 10\u001b[0m \u001b[38;5;28mprint\u001b[39m(\u001b[43mcategory_grp\u001b[49m\u001b[38;5;241;43m.\u001b[39;49m\u001b[43mto_string\u001b[49m())\n",
            "File \u001b[1;32m~\\AppData\\Local\\Packages\\PythonSoftwareFoundation.Python.3.12_qbz5n2kfra8p0\\LocalCache\\local-packages\\Python312\\site-packages\\pandas\\core\\groupby\\groupby.py:1363\u001b[0m, in \u001b[0;36mGroupBy.__getattr__\u001b[1;34m(self, attr)\u001b[0m\n\u001b[0;32m   1360\u001b[0m \u001b[38;5;28;01mif\u001b[39;00m attr \u001b[38;5;129;01min\u001b[39;00m \u001b[38;5;28mself\u001b[39m\u001b[38;5;241m.\u001b[39mobj:\n\u001b[0;32m   1361\u001b[0m     \u001b[38;5;28;01mreturn\u001b[39;00m \u001b[38;5;28mself\u001b[39m[attr]\n\u001b[1;32m-> 1363\u001b[0m \u001b[38;5;28;01mraise\u001b[39;00m \u001b[38;5;167;01mAttributeError\u001b[39;00m(\n\u001b[0;32m   1364\u001b[0m     \u001b[38;5;124mf\u001b[39m\u001b[38;5;124m\"\u001b[39m\u001b[38;5;124m'\u001b[39m\u001b[38;5;132;01m{\u001b[39;00m\u001b[38;5;28mtype\u001b[39m(\u001b[38;5;28mself\u001b[39m)\u001b[38;5;241m.\u001b[39m\u001b[38;5;18m__name__\u001b[39m\u001b[38;5;132;01m}\u001b[39;00m\u001b[38;5;124m'\u001b[39m\u001b[38;5;124m object has no attribute \u001b[39m\u001b[38;5;124m'\u001b[39m\u001b[38;5;132;01m{\u001b[39;00mattr\u001b[38;5;132;01m}\u001b[39;00m\u001b[38;5;124m'\u001b[39m\u001b[38;5;124m\"\u001b[39m\n\u001b[0;32m   1365\u001b[0m )\n",
            "\u001b[1;31mAttributeError\u001b[0m: 'DataFrameGroupBy' object has no attribute 'to_string'"
          ]
        }
      ],
      "source": [
        "df_orders = pd.DataFrame({\n",
        "    'Category': ['Electronics', 'Electronics', 'Clothing', 'Clothing', 'Groceries', 'Groceries'],\n",
        "    'Order_ID': ['O1', 'O2', 'O3', 'O4', 'O5', 'O6'],\n",
        "    'Price': [1000, 500, 100, 200, 50, 60],\n",
        "    'Discount': [50, 25, 10, 20, 5, 6],\n",
        "    'Quantity': [1, 2, 3, 1, 4, 5]\n",
        "})\n",
        "category_grp = df_orders.groupby(\"Category\")\n",
        "\n",
        "print(category_grp)"
      ]
    },
    {
      "cell_type": "markdown",
      "metadata": {
        "id": "ih9vkxLHuUc2"
      },
      "source": [
        "#4. Handling Missing Data\n",
        "\n",
        "You are provided with a dataset, `numeric_df`, containing numeric features from the Titanic dataset. Your task is to explore and handle the missing data systematically.\n",
        "\n"
      ]
    },
    {
      "cell_type": "markdown",
      "metadata": {
        "id": "MLCenplJU5Cm"
      },
      "source": [
        "**Q1.** **Load and Inspect the Data**\n",
        "- Run the cell below to get the dataset `numeric_df`.\n",
        "- Display the first 5 rows of the dataset.\n",
        "- Create a **heatmap** to visualize where the missing values occur.\n",
        "- Count the missing values in each column and report them (also, plot them).\n",
        "- Drop the column with more than 60 percent `NaN` values. Why?\n"
      ]
    },
    {
      "cell_type": "markdown",
      "metadata": {
        "id": "zaCrKFjVU-hg"
      },
      "source": [
        "\n",
        "\n",
        "**Q2** **Handle Missing Values**\n",
        "- For the `pclass` column, use **mode imputation** to fill the missing values.\n",
        "- Explain why mode imputation is appropriate for this column.\n",
        "\n",
        "- How would you impute the values for the column `age`. Why?\n"
      ]
    },
    {
      "cell_type": "markdown",
      "metadata": {
        "id": "lwLvzxMbVF2Y"
      },
      "source": [
        "\n",
        "**Q3** **Analyze Results**\n",
        "- Compare the dataset before and after imputation:\n",
        "  - Count the missing values after imputation.\n",
        "  - Calculate the **mean** of all numeric columns before and after imputation."
      ]
    },
    {
      "cell_type": "code",
      "execution_count": null,
      "metadata": {
        "id": "h7cvw4BcaFal"
      },
      "outputs": [],
      "source": [
        "# Load the Titanic dataset\n",
        "df = sns.load_dataset('titanic')\n",
        "\n",
        "# Select only numeric columns\n",
        "numeric_df = df.select_dtypes(include=['float64', 'int64'])\n",
        "\n",
        "# Introducing missing values in the 'pclass' column\n",
        "np.random.seed(42)\n",
        "pclass_nan_indices = np.random.choice(numeric_df.index, size=int(0.05 * len(numeric_df)), replace=False)\n",
        "numeric_df.loc[pclass_nan_indices, 'pclass'] = np.nan\n",
        "\n",
        "# Introducing missing values in the 'parch' column\n",
        "parch_nan_indices = np.random.choice(numeric_df.index, size=int(0.70 * len(numeric_df)), replace=False)\n",
        "numeric_df.loc[parch_nan_indices, 'parch'] = np.nan"
      ]
    },
    {
      "cell_type": "markdown",
      "metadata": {
        "id": "YTYbmBjE_2u0"
      },
      "source": [
        "# 5. Pandas: Merging Joining and Concatenation"
      ]
    },
    {
      "cell_type": "markdown",
      "metadata": {},
      "source": [
        "**Q1.** You have two DataFrames `df1` and `df2` where `df1` has a column `student_id` and `df2` has a column `student_id` along with `grade`, how would you merge these DataFrames on `student_id` to keep only the rows present in both DataFrames? Show output of the merge.\n",
        "\n",
        "```python\n",
        "data1 = {\n",
        "    'student_id': [1, 2, 3, 4],\n",
        "    'name': ['Alice', 'Bob', 'Charlie', 'David']\n",
        "}\n",
        "data2 = {\n",
        "    'student_id': [2, 3, 4, 5],\n",
        "    'grade': ['A', 'B', 'C', 'D']\n",
        "}\n",
        "\n",
        "df1 = pd.DataFrame(data1)\n",
        "df2 = pd.DataFrame(data2)\n",
        "```"
      ]
    },
    {
      "cell_type": "code",
      "execution_count": null,
      "metadata": {},
      "outputs": [
        {
          "data": {
            "text/html": [
              "<div>\n",
              "<style scoped>\n",
              "    .dataframe tbody tr th:only-of-type {\n",
              "        vertical-align: middle;\n",
              "    }\n",
              "\n",
              "    .dataframe tbody tr th {\n",
              "        vertical-align: top;\n",
              "    }\n",
              "\n",
              "    .dataframe thead th {\n",
              "        text-align: right;\n",
              "    }\n",
              "</style>\n",
              "<table border=\"1\" class=\"dataframe\">\n",
              "  <thead>\n",
              "    <tr style=\"text-align: right;\">\n",
              "      <th></th>\n",
              "      <th>student_id</th>\n",
              "      <th>name</th>\n",
              "      <th>grade</th>\n",
              "    </tr>\n",
              "  </thead>\n",
              "  <tbody>\n",
              "    <tr>\n",
              "      <th>0</th>\n",
              "      <td>1</td>\n",
              "      <td>Alice</td>\n",
              "      <td>NaN</td>\n",
              "    </tr>\n",
              "    <tr>\n",
              "      <th>1</th>\n",
              "      <td>2</td>\n",
              "      <td>Bob</td>\n",
              "      <td>A</td>\n",
              "    </tr>\n",
              "    <tr>\n",
              "      <th>2</th>\n",
              "      <td>3</td>\n",
              "      <td>Charlie</td>\n",
              "      <td>B</td>\n",
              "    </tr>\n",
              "    <tr>\n",
              "      <th>3</th>\n",
              "      <td>4</td>\n",
              "      <td>David</td>\n",
              "      <td>C</td>\n",
              "    </tr>\n",
              "    <tr>\n",
              "      <th>4</th>\n",
              "      <td>5</td>\n",
              "      <td>NaN</td>\n",
              "      <td>D</td>\n",
              "    </tr>\n",
              "  </tbody>\n",
              "</table>\n",
              "</div>"
            ],
            "text/plain": [
              "   student_id     name grade\n",
              "0           1    Alice   NaN\n",
              "1           2      Bob     A\n",
              "2           3  Charlie     B\n",
              "3           4    David     C\n",
              "4           5      NaN     D"
            ]
          },
          "execution_count": 3,
          "metadata": {},
          "output_type": "execute_result"
        }
      ],
      "source": [
        "data1 = {\n",
        "    'student_id': [1, 2, 3, 4],\n",
        "    'name': ['Alice', 'Bob', 'Charlie', 'David']\n",
        "}\n",
        "data2 = {\n",
        "    'student_id': [2, 3, 4, 5],\n",
        "    'grade': ['A', 'B', 'C', 'D']\n",
        "}\n",
        "\n",
        "df1 = pd.DataFrame(data1)\n",
        "df2 = pd.DataFrame(data2)\n",
        "total = pd.merge(df1,df2,on=\"student_id\",how=\"outer\") #Uses merge to merge the 2 data frames on student id and outer causes non existent grades to become NaN\n",
        "total"
      ]
    },
    {
      "cell_type": "markdown",
      "metadata": {},
      "source": [
        "**Q2.** If you are provided with two DataFrames, employees and departments with `employee_id` as the index, how would you join them such that all rows from the employees DataFrame are kept, even if there is no matching department record? (you may assume employees have 2nd column as `employee_name` and departments have 2nd column as `department_name`, and randomly assign its data)\n",
        "\n",
        "```python\n",
        "employees_data = {\n",
        "    'employee_id': [1, 2, 3, 4],\n",
        "    'employee_name': ['Alice', 'Bob', 'Charlie', 'David']\n",
        "}\n",
        "departments_data = {\n",
        "    'employee_id': [2, 3, 4, 1],\n",
        "    'department_name': ['A', 'B', 'C', 'D']\n",
        "}\n",
        "\n",
        "employees = pd.DataFrame(employees_data)\n",
        "departments = pd.DataFrame(departments_data)\n",
        "```\n"
      ]
    },
    {
      "cell_type": "code",
      "execution_count": 5,
      "metadata": {},
      "outputs": [
        {
          "name": "stdout",
          "output_type": "stream",
          "text": [
            "   employee_id employee_name department_name\n",
            "0            1         Alice               D\n",
            "1            2           Bob               A\n",
            "2            3       Charlie               B\n",
            "3            4         David               C\n"
          ]
        }
      ],
      "source": [
        "employees_data =pd.DataFrame( {\n",
        "    'employee_id': [1, 2, 3, 4],\n",
        "    'employee_name': ['Alice', 'Bob', 'Charlie', 'David']\n",
        "})\n",
        "departments_data = pd.DataFrame( {\n",
        "    'employee_id': [2, 3, 4, 1],\n",
        "    'department_name': ['A', 'B', 'C', 'D']\n",
        "})\n",
        "merged_data = pd.merge(employees_data,departments_data,how='left',on='employee_id') #Uses the in-built merge function and uses the column \"employee_id\" to index the entries\n",
        "print(merged_data)\n",
        "\n"
      ]
    },
    {
      "cell_type": "markdown",
      "metadata": {},
      "source": [
        "\n",
        "\n",
        "\n",
        "\n",
        "\n",
        "\n",
        "**Q3**. Given two DataFrames `df_a` and `df_b` with the same columns, how would you concatenate them vertically, resetting the index so it starts from zero in the combined DataFrame? (you may assume both dataframes have 2 columns each, and randomly assign its data)\n",
        "\n",
        "```python\n",
        "df1 = {\n",
        "    'student_id': [1, 2, 3, 4],\n",
        "    'name': ['Alice', 'Bob', 'Charlie', 'David']\n",
        "}\n",
        "df2 = {\n",
        "    'student_id': [5, 6, 7, 8],\n",
        "    'name': ['Anish', 'Divakar', 'Vaibhav', 'Tanvi']\n",
        "}\n",
        "\n",
        "df_a = pd.DataFrame(df1)\n",
        "df_b = pd.DataFrame(df2)\n",
        "```\n"
      ]
    },
    {
      "cell_type": "code",
      "execution_count": 10,
      "metadata": {},
      "outputs": [
        {
          "name": "stdout",
          "output_type": "stream",
          "text": [
            "   student_id_x     name  student_id_y\n",
            "0           1.0    Alice           NaN\n",
            "1           NaN    Anish           5.0\n",
            "2           2.0      Bob           NaN\n",
            "3           3.0  Charlie           NaN\n",
            "4           4.0    David           NaN\n",
            "5           NaN  Divakar           6.0\n",
            "6           NaN    Tanvi           8.0\n",
            "7           NaN  Vaibhav           7.0\n"
          ]
        }
      ],
      "source": [
        "df1 = {\n",
        "    'student_id': [1, 2, 3, 4],\n",
        "    'name': ['Alice', 'Bob', 'Charlie', 'David']\n",
        "}\n",
        "df2 = {\n",
        "    'student_id': [5, 6, 7, 8],\n",
        "    'name': ['Anish', 'Divakar', 'Vaibhav', 'Tanvi']\n",
        "}\n",
        "\n",
        "df_a = pd.DataFrame(df1)\n",
        "df_b = pd.DataFrame(df2)\n",
        "merged = pd.merge(df_a,df_b,how='outer') # Just use the outer method to merge the 2 dfs\n",
        "print(merged)"
      ]
    },
    {
      "cell_type": "markdown",
      "metadata": {
        "id": "htAymA94uZGQ"
      },
      "source": [
        "#6. Pandas: Advanced Operations (Evaluation and Query)\n",
        "\n",
        "\n",
        "\n",
        "\n",
        "You are provided with the dataset, `iris`, which contains information about iris flower species and their physical measurements. Your task is to use :\n",
        "\n",
        "\n",
        "**Q1** **Pandas advanced operations** such as evaluation (`eval`) and conditional querying (`query`) to analyze and extract insights from the dataset.\n",
        "\n"
      ]
    },
    {
      "cell_type": "code",
      "execution_count": 53,
      "metadata": {},
      "outputs": [
        {
          "data": {
            "text/plain": [
              "<bound method DataFrame.query of      sepal_length  sepal_width  petal_length  petal_width    species\n",
              "0             5.1          3.5           1.4          0.2     setosa\n",
              "1             4.9          3.0           1.4          0.2     setosa\n",
              "2             4.7          3.2           1.3          0.2     setosa\n",
              "3             4.6          3.1           1.5          0.2     setosa\n",
              "4             5.0          3.6           1.4          0.2     setosa\n",
              "..            ...          ...           ...          ...        ...\n",
              "145           6.7          3.0           5.2          2.3  virginica\n",
              "146           6.3          2.5           5.0          1.9  virginica\n",
              "147           6.5          3.0           5.2          2.0  virginica\n",
              "148           6.2          3.4           5.4          2.3  virginica\n",
              "149           5.9          3.0           5.1          1.8  virginica\n",
              "\n",
              "[150 rows x 5 columns]>"
            ]
          },
          "execution_count": 53,
          "metadata": {},
          "output_type": "execute_result"
        }
      ],
      "source": [
        "iris = sns.load_dataset('iris')\n",
        "iris.query\n",
        "\n"
      ]
    },
    {
      "cell_type": "markdown",
      "metadata": {},
      "source": [
        "**Q2** **Load and Inspect the Data**\n",
        "- Run `iris = sns.load_dataset('iris')` to load the dataset.\n",
        "- Display the first 5 rows of the dataset.\n",
        "- Print the summary statistics of the dataset."
      ]
    },
    {
      "cell_type": "code",
      "execution_count": 25,
      "metadata": {},
      "outputs": [
        {
          "name": "stdout",
          "output_type": "stream",
          "text": [
            "   sepal_length  sepal_width  petal_length  petal_width species\n",
            "0           5.1          3.5           1.4          0.2  setosa\n",
            "1           4.9          3.0           1.4          0.2  setosa\n",
            "2           4.7          3.2           1.3          0.2  setosa\n",
            "3           4.6          3.1           1.5          0.2  setosa\n",
            "4           5.0          3.6           1.4          0.2  setosa\n"
          ]
        },
        {
          "data": {
            "text/html": [
              "<div>\n",
              "<style scoped>\n",
              "    .dataframe tbody tr th:only-of-type {\n",
              "        vertical-align: middle;\n",
              "    }\n",
              "\n",
              "    .dataframe tbody tr th {\n",
              "        vertical-align: top;\n",
              "    }\n",
              "\n",
              "    .dataframe thead th {\n",
              "        text-align: right;\n",
              "    }\n",
              "</style>\n",
              "<table border=\"1\" class=\"dataframe\">\n",
              "  <thead>\n",
              "    <tr style=\"text-align: right;\">\n",
              "      <th></th>\n",
              "      <th>sepal_length</th>\n",
              "      <th>sepal_width</th>\n",
              "      <th>petal_length</th>\n",
              "      <th>petal_width</th>\n",
              "    </tr>\n",
              "  </thead>\n",
              "  <tbody>\n",
              "    <tr>\n",
              "      <th>count</th>\n",
              "      <td>150.000000</td>\n",
              "      <td>150.000000</td>\n",
              "      <td>150.000000</td>\n",
              "      <td>150.000000</td>\n",
              "    </tr>\n",
              "    <tr>\n",
              "      <th>mean</th>\n",
              "      <td>5.843333</td>\n",
              "      <td>3.057333</td>\n",
              "      <td>3.758000</td>\n",
              "      <td>1.199333</td>\n",
              "    </tr>\n",
              "    <tr>\n",
              "      <th>std</th>\n",
              "      <td>0.828066</td>\n",
              "      <td>0.435866</td>\n",
              "      <td>1.765298</td>\n",
              "      <td>0.762238</td>\n",
              "    </tr>\n",
              "    <tr>\n",
              "      <th>min</th>\n",
              "      <td>4.300000</td>\n",
              "      <td>2.000000</td>\n",
              "      <td>1.000000</td>\n",
              "      <td>0.100000</td>\n",
              "    </tr>\n",
              "    <tr>\n",
              "      <th>25%</th>\n",
              "      <td>5.100000</td>\n",
              "      <td>2.800000</td>\n",
              "      <td>1.600000</td>\n",
              "      <td>0.300000</td>\n",
              "    </tr>\n",
              "    <tr>\n",
              "      <th>50%</th>\n",
              "      <td>5.800000</td>\n",
              "      <td>3.000000</td>\n",
              "      <td>4.350000</td>\n",
              "      <td>1.300000</td>\n",
              "    </tr>\n",
              "    <tr>\n",
              "      <th>75%</th>\n",
              "      <td>6.400000</td>\n",
              "      <td>3.300000</td>\n",
              "      <td>5.100000</td>\n",
              "      <td>1.800000</td>\n",
              "    </tr>\n",
              "    <tr>\n",
              "      <th>max</th>\n",
              "      <td>7.900000</td>\n",
              "      <td>4.400000</td>\n",
              "      <td>6.900000</td>\n",
              "      <td>2.500000</td>\n",
              "    </tr>\n",
              "  </tbody>\n",
              "</table>\n",
              "</div>"
            ],
            "text/plain": [
              "       sepal_length  sepal_width  petal_length  petal_width\n",
              "count    150.000000   150.000000    150.000000   150.000000\n",
              "mean       5.843333     3.057333      3.758000     1.199333\n",
              "std        0.828066     0.435866      1.765298     0.762238\n",
              "min        4.300000     2.000000      1.000000     0.100000\n",
              "25%        5.100000     2.800000      1.600000     0.300000\n",
              "50%        5.800000     3.000000      4.350000     1.300000\n",
              "75%        6.400000     3.300000      5.100000     1.800000\n",
              "max        7.900000     4.400000      6.900000     2.500000"
            ]
          },
          "execution_count": 25,
          "metadata": {},
          "output_type": "execute_result"
        }
      ],
      "source": [
        "\n",
        "flower_data = pd.DataFrame(iris)\n",
        "print(flower_data[:5])\n",
        "flower_data.describe()"
      ]
    },
    {
      "cell_type": "markdown",
      "metadata": {},
      "source": [
        "\n",
        "**Q3** **Filter the Data Using `query`**\n",
        "- Use the `query` method to:\n",
        "  1. Find all flowers with a `sepal_length`> 6.5 and a `petal_length` > 5.\n",
        "  2. Find all `virginica` flowers with a `petal_width` less than 2."
      ]
    },
    {
      "cell_type": "code",
      "execution_count": null,
      "metadata": {},
      "outputs": [
        {
          "name": "stdout",
          "output_type": "stream",
          "text": [
            "     sepal_length  sepal_width  petal_length  petal_width     species  \\\n",
            "50            7.0          3.2           4.7          1.4  versicolor   \n",
            "52            6.9          3.1           4.9          1.5  versicolor   \n",
            "58            6.6          2.9           4.6          1.3  versicolor   \n",
            "65            6.7          3.1           4.4          1.4  versicolor   \n",
            "75            6.6          3.0           4.4          1.4  versicolor   \n",
            "76            6.8          2.8           4.8          1.4  versicolor   \n",
            "77            6.7          3.0           5.0          1.7  versicolor   \n",
            "86            6.7          3.1           4.7          1.5  versicolor   \n",
            "102           7.1          3.0           5.9          2.1   virginica   \n",
            "105           7.6          3.0           6.6          2.1   virginica   \n",
            "107           7.3          2.9           6.3          1.8   virginica   \n",
            "108           6.7          2.5           5.8          1.8   virginica   \n",
            "109           7.2          3.6           6.1          2.5   virginica   \n",
            "112           6.8          3.0           5.5          2.1   virginica   \n",
            "117           7.7          3.8           6.7          2.2   virginica   \n",
            "118           7.7          2.6           6.9          2.3   virginica   \n",
            "120           6.9          3.2           5.7          2.3   virginica   \n",
            "122           7.7          2.8           6.7          2.0   virginica   \n",
            "124           6.7          3.3           5.7          2.1   virginica   \n",
            "125           7.2          3.2           6.0          1.8   virginica   \n",
            "129           7.2          3.0           5.8          1.6   virginica   \n",
            "130           7.4          2.8           6.1          1.9   virginica   \n",
            "131           7.9          3.8           6.4          2.0   virginica   \n",
            "135           7.7          3.0           6.1          2.3   virginica   \n",
            "139           6.9          3.1           5.4          2.1   virginica   \n",
            "140           6.7          3.1           5.6          2.4   virginica   \n",
            "141           6.9          3.1           5.1          2.3   virginica   \n",
            "143           6.8          3.2           5.9          2.3   virginica   \n",
            "144           6.7          3.3           5.7          2.5   virginica   \n",
            "145           6.7          3.0           5.2          2.3   virginica   \n",
            "\n",
            "     petal_area  \n",
            "50         6.58  \n",
            "52         7.35  \n",
            "58         5.98  \n",
            "65         6.16  \n",
            "75         6.16  \n",
            "76         6.72  \n",
            "77         8.50  \n",
            "86         7.05  \n",
            "102       12.39  \n",
            "105       13.86  \n",
            "107       11.34  \n",
            "108       10.44  \n",
            "109       15.25  \n",
            "112       11.55  \n",
            "117       14.74  \n",
            "118       15.87  \n",
            "120       13.11  \n",
            "122       13.40  \n",
            "124       11.97  \n",
            "125       10.80  \n",
            "129        9.28  \n",
            "130       11.59  \n",
            "131       12.80  \n",
            "135       14.03  \n",
            "139       11.34  \n",
            "140       13.44  \n",
            "141       11.73  \n",
            "143       13.57  \n",
            "144       14.25  \n",
            "145       11.96  \n",
            "     sepal_length  sepal_width  petal_length  petal_width    species  \\\n",
            "101           5.8          2.7           5.1          1.9  virginica   \n",
            "103           6.3          2.9           5.6          1.8  virginica   \n",
            "106           4.9          2.5           4.5          1.7  virginica   \n",
            "107           7.3          2.9           6.3          1.8  virginica   \n",
            "108           6.7          2.5           5.8          1.8  virginica   \n",
            "111           6.4          2.7           5.3          1.9  virginica   \n",
            "116           6.5          3.0           5.5          1.8  virginica   \n",
            "119           6.0          2.2           5.0          1.5  virginica   \n",
            "123           6.3          2.7           4.9          1.8  virginica   \n",
            "125           7.2          3.2           6.0          1.8  virginica   \n",
            "126           6.2          2.8           4.8          1.8  virginica   \n",
            "127           6.1          3.0           4.9          1.8  virginica   \n",
            "129           7.2          3.0           5.8          1.6  virginica   \n",
            "130           7.4          2.8           6.1          1.9  virginica   \n",
            "133           6.3          2.8           5.1          1.5  virginica   \n",
            "134           6.1          2.6           5.6          1.4  virginica   \n",
            "137           6.4          3.1           5.5          1.8  virginica   \n",
            "138           6.0          3.0           4.8          1.8  virginica   \n",
            "142           5.8          2.7           5.1          1.9  virginica   \n",
            "146           6.3          2.5           5.0          1.9  virginica   \n",
            "149           5.9          3.0           5.1          1.8  virginica   \n",
            "\n",
            "     petal_area  \n",
            "101        9.69  \n",
            "103       10.08  \n",
            "106        7.65  \n",
            "107       11.34  \n",
            "108       10.44  \n",
            "111       10.07  \n",
            "116        9.90  \n",
            "119        7.50  \n",
            "123        8.82  \n",
            "125       10.80  \n",
            "126        8.64  \n",
            "127        8.82  \n",
            "129        9.28  \n",
            "130       11.59  \n",
            "133        7.65  \n",
            "134        7.84  \n",
            "137        9.90  \n",
            "138        8.64  \n",
            "142        9.69  \n",
            "146        9.50  \n",
            "149        9.18  \n"
          ]
        }
      ],
      "source": [
        "#Query with a string acts as an if argument, so just put the conditions you want and that's it.\n",
        "longFlowers = iris.query('sepal_length>6.5')\n",
        "print(longFlowers)\n",
        "virginica = iris.query(\"species == 'virginica' and petal_width < 2\")\n",
        "print(virginica)\n"
      ]
    },
    {
      "cell_type": "markdown",
      "metadata": {},
      "source": [
        "\n",
        "**Q4** **Use `eval` for Calculations**\n",
        "- Create a new column `petal_area` using the formula:  \n",
        "  `petal_area = petal_length * petal_width`\n",
        "- Display the top 5 flowers with the largest `petal_area`.\n",
        "- Use `query` to filter flowers that meet the following conditions:\n",
        "  - `petal_area` > 10\n",
        "  - `sepal_length` is in the range 5 to 7.\n"
      ]
    },
    {
      "cell_type": "code",
      "execution_count": 54,
      "metadata": {},
      "outputs": [
        {
          "name": "stdout",
          "output_type": "stream",
          "text": [
            "     sepal_length  sepal_width  petal_length  petal_width    species  \\\n",
            "118           7.7          2.6           6.9          2.3  virginica   \n",
            "109           7.2          3.6           6.1          2.5  virginica   \n",
            "100           6.3          3.3           6.0          2.5  virginica   \n",
            "117           7.7          3.8           6.7          2.2  virginica   \n",
            "144           6.7          3.3           5.7          2.5  virginica   \n",
            "\n",
            "     petal_area  \n",
            "118       15.87  \n",
            "109       15.25  \n",
            "100       15.00  \n",
            "117       14.74  \n",
            "144       14.25  \n",
            "     sepal_length  sepal_width  petal_length  petal_width    species  \\\n",
            "100           6.3          3.3           6.0          2.5  virginica   \n",
            "103           6.3          2.9           5.6          1.8  virginica   \n",
            "104           6.5          3.0           5.8          2.2  virginica   \n",
            "108           6.7          2.5           5.8          1.8  virginica   \n",
            "110           6.5          3.2           5.1          2.0  virginica   \n",
            "111           6.4          2.7           5.3          1.9  virginica   \n",
            "112           6.8          3.0           5.5          2.1  virginica   \n",
            "114           5.8          2.8           5.1          2.4  virginica   \n",
            "115           6.4          3.2           5.3          2.3  virginica   \n",
            "120           6.9          3.2           5.7          2.3  virginica   \n",
            "124           6.7          3.3           5.7          2.1  virginica   \n",
            "128           6.4          2.8           5.6          2.1  virginica   \n",
            "132           6.4          2.8           5.6          2.2  virginica   \n",
            "136           6.3          3.4           5.6          2.4  virginica   \n",
            "139           6.9          3.1           5.4          2.1  virginica   \n",
            "140           6.7          3.1           5.6          2.4  virginica   \n",
            "141           6.9          3.1           5.1          2.3  virginica   \n",
            "143           6.8          3.2           5.9          2.3  virginica   \n",
            "144           6.7          3.3           5.7          2.5  virginica   \n",
            "145           6.7          3.0           5.2          2.3  virginica   \n",
            "147           6.5          3.0           5.2          2.0  virginica   \n",
            "148           6.2          3.4           5.4          2.3  virginica   \n",
            "\n",
            "     petal_area  \n",
            "100       15.00  \n",
            "103       10.08  \n",
            "104       12.76  \n",
            "108       10.44  \n",
            "110       10.20  \n",
            "111       10.07  \n",
            "112       11.55  \n",
            "114       12.24  \n",
            "115       12.19  \n",
            "120       13.11  \n",
            "124       11.97  \n",
            "128       11.76  \n",
            "132       12.32  \n",
            "136       13.44  \n",
            "139       11.34  \n",
            "140       13.44  \n",
            "141       11.73  \n",
            "143       13.57  \n",
            "144       14.25  \n",
            "145       11.96  \n",
            "147       10.40  \n",
            "148       12.42  \n"
          ]
        }
      ],
      "source": [
        "iris.eval(\"petal_area = petal_length * petal_width\", inplace=True)\n",
        "biggest_flowers = iris.nlargest(5, \"petal_area\") #function nlargest returns the n largest entries of a column\n",
        "print(biggest_flowers)\n",
        "filtered = iris.query(\"petal_area>10 and 5<sepal_length<7\")\n",
        "print(filtered) "
      ]
    },
    {
      "cell_type": "markdown",
      "metadata": {},
      "source": [
        "**Q5** **Analyze and Visualize**\n",
        "- Perform a group-wise analysis:\n",
        "  1. Calculate the **average petal length** for each species.\n",
        "  2. Find the **count of flowers** for each species.\n",
        "  3. Create a scatter plot of `sepal_length` vs. `petal_length`, colored by species."
      ]
    },
    {
      "cell_type": "code",
      "execution_count": 64,
      "metadata": {},
      "outputs": [
        {
          "name": "stdout",
          "output_type": "stream",
          "text": [
            "species\n",
            "setosa        1.462\n",
            "versicolor    4.260\n",
            "virginica     5.552\n",
            "Name: petal_length, dtype: float64\n",
            "species\n",
            "setosa        50\n",
            "versicolor    50\n",
            "virginica     50\n",
            "Name: count, dtype: int64\n"
          ]
        },
        {
          "data": {
            "image/png": "[encoded data removed]",
            "text/plain": [
              "<Figure size 640x480 with 1 Axes>"
            ]
          },
          "metadata": {},
          "output_type": "display_data"
        }
      ],
      "source": [
        "avg_petal_length = iris.groupby(\"species\")['petal_length'].mean()\n",
        "print(avg_petal_length)\n",
        "flower_count = iris['species'].value_counts()\n",
        "print(flower_count)\n",
        "plt.scatter(iris['sepal_length'],iris['petal_length'])\n",
        "plt.title(\"Sepal Length vs. Petal Length by Species\", fontsize=14)\n",
        "plt.xlabel(\"Sepal Length\", fontsize=12)\n",
        "plt.ylabel(\"Petal Length\", fontsize=12)\n",
        "plt.legend(title=\"Species\")\n",
        "plt.grid(True)\n",
        "plt.show()"
      ]
    },
    {
      "cell_type": "markdown",
      "metadata": {
        "id": "cC0eIiQxT6nI"
      },
      "source": [
        "#7. Matplotlib: Basic Plotting Questions\n",
        "\n",
        "**Q1. Line Plot**\n",
        "\n",
        "Plot a sine wave (\\(y = sin(x)\\)) for \\(x in [0, 2π]\\). Customize the plot by:\n",
        "1. Adding a title to the graph.\n",
        "2. Adding labels for the x-axis and y-axis.\n",
        "3. Displaying a grid.\n",
        "\n",
        "\n",
        "\n",
        "\n",
        "**Q3. Plot Customization**\n",
        "\n",
        "Plot the function \\(y = x^2\\) for \\(x \\in [-10, 10]\\). Customize the plot by:\n",
        "1. Adding a title and axis labels.\n",
        "2. Changing the line style, color, and thickness.\n",
        "3. Adjusting the axis limits to make the graph more visually appealing.\n"
      ]
    },
    {
      "cell_type": "code",
      "execution_count": null,
      "metadata": {},
      "outputs": [
        {
          "data": {
            "image/png": "[encoded data removed]",
            "text/plain": [
              "<Figure size 640x480 with 1 Axes>"
            ]
          },
          "metadata": {},
          "output_type": "display_data"
        }
      ],
      "source": [
        "angles = np.linspace(0, 2 * np.pi, 100)\n",
        "sines = np.sin(angles)\n",
        "plt.plot(angles,sines)\n",
        "plt.xlabel(\"x\")\n",
        "plt.ylabel(\"sin(x)\")\n",
        "plt.title(\"y = sin(x)\")\n",
        "plt.legend()\n",
        "plt.grid()\n",
        "plt.show()"
      ]
    },
    {
      "cell_type": "markdown",
      "metadata": {},
      "source": [
        "Q2. Multiple Line Plots\n",
        "\n",
        "Plot the following functions on the same graph for (x \\in [0, 2π]):\n",
        "\n",
        "    (y_1 = sin(x))\n",
        "    (y_2 = cos(x)) Customize the graph by:\n",
        "\n",
        "    Using different colors and line styles for each function.\n",
        "    Adding a legend to identify the curves.\n"
      ]
    },
    {
      "cell_type": "code",
      "execution_count": 72,
      "metadata": {},
      "outputs": [
        {
          "data": {
            "image/png": "[encoded data removed]",
            "text/plain": [
              "<Figure size 640x480 with 1 Axes>"
            ]
          },
          "metadata": {},
          "output_type": "display_data"
        }
      ],
      "source": [
        "angles = np.linspace(0, 2 * np.pi, 100)\n",
        "sines = np.sin(angles)\n",
        "cosines = np.cos(angles)\n",
        "plt.plot(angles,sines)\n",
        "plt.plot(angles,cosines)\n",
        "plt.xlabel(\"x\")\n",
        "plt.ylabel(\"y\")\n",
        "plt.title(\"y1 = sin(x,y2 = cos(x)\")\n",
        "plt.legend()\n",
        "plt.grid()\n",
        "plt.show()"
      ]
    },
    {
      "cell_type": "markdown",
      "metadata": {},
      "source": [
        "**Q3. Plot Customization**\n",
        "\n",
        "Plot the function \\(y = x^2\\) for \\(x \\in [-10, 10]\\). Customize the plot by:\n",
        "1. Adding a title and axis labels.\n",
        "2. Changing the line style, color, and thickness.\n",
        "3. Adjusting the axis limits to make the graph more visually appealing."
      ]
    },
    {
      "cell_type": "code",
      "execution_count": 83,
      "metadata": {},
      "outputs": [
        {
          "data": {
            "image/png": "[encoded data removed]",
            "text/plain": [
              "<Figure size 640x480 with 1 Axes>"
            ]
          },
          "metadata": {},
          "output_type": "display_data"
        }
      ],
      "source": [
        "x = np.linspace(-10, 10, 1000)\n",
        "y = np.square(x)\n",
        "plt.plot(x,y,color='green',linestyle='dashed',linewidth = '2.5')\n",
        "plt.xlabel(\"x\",fontsize = 21)\n",
        "plt.ylabel(\"y\", fontsize = 21)\n",
        "plt.title(\"y = x^2\",fontsize = 28)\n",
        "plt.legend()\n",
        "plt.grid()\n",
        "plt.show()\n",
        "\n"
      ]
    },
    {
      "cell_type": "markdown",
      "metadata": {
        "id": "Xx5PqjMKu5sa"
      },
      "source": [
        "#8a. Bar Plot\n",
        "\n",
        "**Q1** You are provided with the `tips` dataset. Your task is to create a **bar plot** using Matplotlib.\n",
        "\n",
        "- Load the `tips` dataset using Seaborn:  \n",
        "  ```python\n",
        "  import seaborn as sns\n",
        "  tips = sns.load_dataset('tips')\n",
        "```\n",
        "- Create a bar plot showing the average tip for each day of the week.\n",
        "Label the x-axis as Day, the y-axis as Average Tip, and add a title: \"Average Tip by Day\".\n",
        "\n",
        "- Based on the bar plot, which day has the highest average tip?\n"
      ]
    },
    {
      "cell_type": "markdown",
      "metadata": {
        "id": "9h9xBYVPww2c"
      },
      "source": [
        "Based on the bar-plot above the **Sunday** has the highest average tip"
      ]
    },
    {
      "cell_type": "markdown",
      "metadata": {
        "id": "VBuqEqDiu9kG"
      },
      "source": [
        "#8b. Scatter Plot\n",
        "\n",
        "**Q1.** You are provided with the `tips` dataset. Your task is to create a **scatter plot** using Matplotlib.\n",
        "\n",
        "- Load the `tips` dataset using Seaborn:  \n",
        "  ```python\n",
        "  import seaborn as sns\n",
        "  tips = sns.load_dataset('tips')\n",
        "  ```\n",
        "\n",
        "- Create a scatter plot with total_bill on the x-axis and tip on the y-axis.\n",
        "- Label the x-axis as Total Bill, the y-axis as Tip, and add a title: \"Relationship between Total Bill and Tip\".\n",
        "\n",
        "- Based on the scatter plot, do you observe any relationship between total_bill and tip?\n"
      ]
    },
    {
      "cell_type": "markdown",
      "metadata": {
        "id": "f7iLzvoAyOZA"
      },
      "source": [
        "There appears to be a positive relationship between `total_bill` and `tip`. As the total bill increases, the tip generally tends to increase as well. However, the relationship **does not appear to be perfectly linear**, and there is some **variability** in the amount of tip given for a given total bill"
      ]
    },
    {
      "cell_type": "markdown",
      "metadata": {
        "id": "GDKH1CtQtq6L"
      },
      "source": [
        "#9. Matplotlib: Subplots and Layouts\n",
        "\n",
        "**Q1.** Create a 2x2 grid of subplots with:\n",
        "- Subplot (1,1): Plot y = sin(x).\n",
        "- Subplot (1,2): Plot y = cos(x) .\n",
        "- Subplot (2,1): Plot y = e<sup>−x</sup>\n",
        "- Subplot (2,2): Plot y=ln(x) for x∈[0.1,2].\n",
        "\n",
        "Customize background colors, add unique x and y labels, and set titles.\n",
        "\n",
        "**Q2.** Create a subplot within another subplot:\n",
        "- Main subplot: Display a scatter plot of 100 random points with x and y values between 0 and 1.\n",
        "- Inset subplot: Display a histogram of the x-values from the scatter plot.\n",
        "\n",
        "**Q3.** Create a Layout with One Large and Two Smaller Subplots\n",
        "\n",
        "- Design a large subplot occupying the top two-thirds of the figure and plot \\( y = sin(x) \\) and \\( y = cos(x) \\) on the same graph.  \n",
        "\n",
        "- Create two smaller subplots in the bottom row:  \n",
        "   - On the left, plot y =x<sup>2</sup>.  \n",
        "   - On the right, plot y = e<sup>x</sup>.  \n",
        "\n",
        "Ensure each subplot has appropriate titles, axis labels, and legends where necessary. Use a clean layout that avoids overlapping elements.\n",
        "\n",
        "\n"
      ]
    },
    {
      "cell_type": "markdown",
      "metadata": {
        "id": "XALRioST1mCM"
      },
      "source": [
        "#10. Matplotlib: Advanced Customization"
      ]
    },
    {
      "cell_type": "markdown",
      "metadata": {
        "id": "FVwjipWz3HPr"
      },
      "source": [
        "**Q1. Customizing Axes and Ticks**\n",
        "\n",
        "Create a line plot for y = x^2 in the range -10 to 10.\n",
        "Customize the axes and ticks:\n",
        "1. Set x-axis range to -10 to 10.\n",
        "2. Set y-axis range to 0 to 100.\n",
        "3. Use custom tick marks at intervals of 2 for x-axis and 10 for y-axis.\n",
        "4. Rotate x-axis tick labels by 45 degrees.\n",
        "\n",
        "**Q2. Multiple Subplots with Shared Legend and Grid Customization**\n",
        "\n",
        "Create a figure with four subplots (2x2 grid) showing different trigonometric functions:\n",
        "1. Top-left: y = sin(x)\n",
        "2. Top-right: y = cos(x)\n",
        "3. Bottom-left: y = tan(x) (restrict x to avoid undefined regions).\n",
        "4. Bottom-right: y = sin^2(x) + cos^2(x) (should always equal 1).\n",
        "\n",
        "**Q3. Subplots and Shared Axes**\n",
        "\n",
        "Create two subplots side-by-side:\n",
        "1. Bar chart for sales (random data) from January to June.\n",
        "2. Line chart for cumulative sales.\n",
        "Share the y-axis and add titles, a common x-axis label, and a grid for the second plot.\n",
        "\n",
        "**Q4. Adding Annotations**\n",
        "\n",
        "Create a scatter plot of 10 random points:\n",
        "1. Annotate the point with the max y-coordinate with a red star and text label.\n",
        "2. Customize marker size and color for all points.\n",
        "\n",
        "**Q5. Creating a Custom Colormap**\n",
        "\n",
        "Generate a heatmap for a 5x5 matrix of random numbers between 0 and 1:\n",
        "1. Use a custom colormap (blue to red).\n",
        "2. Add a color bar and display exact cell values rounded to 2 decimals.\n",
        "\n",
        "\n",
        "**Q6. Customization of 3D Plot**\n",
        "\n",
        "Using Matplotlib’s mpl_toolkits.mplot3d, create a 3D surface plot for the function:\n",
        "z = sin(sqrt(x^2 + y^2))\n",
        "\n",
        "Requirements:\n",
        "1. Generate x and y values in the range -5 to 5 using a meshgrid.\n",
        "2. Use a custom colormap that highlights peaks and valleys (e.g., `coolwarm`).\n",
        "3. Add a color bar with a label \"Amplitude\".\n",
        "4. Add labels for all three axes and a title.\n",
        "5. Rotate the 3D plot to a custom viewing angle using ax.view_init."
      ]
    }
  ],
  "metadata": {
    "colab": {
      "provenance": []
    },
    "kernelspec": {
      "display_name": "Python 3",
      "name": "python3"
    },
    "language_info": {
      "codemirror_mode": {
        "name": "ipython",
        "version": 3
      },
      "file_extension": ".py",
      "mimetype": "text/x-python",
      "name": "python",
      "nbconvert_exporter": "python",
      "pygments_lexer": "ipython3",
      "version": "3.12.5"
    }
  },
  "nbformat": 4,
  "nbformat_minor": 0
}
